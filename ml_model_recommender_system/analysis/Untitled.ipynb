{
 "cells": [
  {
   "cell_type": "code",
   "execution_count": 85,
   "id": "31418208-e7de-4b9b-9596-c735f8d03f43",
   "metadata": {},
   "outputs": [
    {
     "name": "stdout",
     "output_type": "stream",
     "text": [
      "Traceback (most recent call last):\n",
      "  File \"/var/folders/wm/9mwhs7qn1z54jbvm86mnhkbw0000gn/T/ipykernel_69402/3696486459.py\", line 3, in <module>\n",
      "    1/0\n",
      "ZeroDivisionError: division by zero\n",
      "\n",
      "1\n"
     ]
    }
   ],
   "source": [
    "import traceback\n",
    "try:\n",
    "    1/0\n",
    "except Exception as error:\n",
    "    aa = traceback.format_exc()\n",
    "    print(aa)\n",
    "print(1)"
   ]
  },
  {
   "cell_type": "code",
   "execution_count": 2,
   "id": "86c1f6e8-c6bc-4215-a582-355f099baf2a",
   "metadata": {},
   "outputs": [],
   "source": [
    "import numpy as np"
   ]
  },
  {
   "cell_type": "code",
   "execution_count": 1,
   "id": "65bf7ceb-dd80-434f-9eb0-7665e66a06d5",
   "metadata": {},
   "outputs": [],
   "source": [
    "from scipy import sparse\n",
    "from numpy import array\n",
    "I = array([0,3,1,0])\n",
    "J = array([0,3,1,2])\n",
    "V = array([4,5,7,9])\n",
    "A = sparse.coo_matrix((V,(I,J)),shape=(4,4))"
   ]
  },
  {
   "cell_type": "code",
   "execution_count": 2,
   "id": "add3980c-8a3c-4458-b1e5-7998276175e5",
   "metadata": {},
   "outputs": [
    {
     "data": {
      "text/plain": [
       "<4x4 sparse matrix of type '<class 'numpy.int64'>'\n",
       "\twith 4 stored elements in COOrdinate format>"
      ]
     },
     "execution_count": 2,
     "metadata": {},
     "output_type": "execute_result"
    }
   ],
   "source": [
    "A"
   ]
  },
  {
   "cell_type": "code",
   "execution_count": 5,
   "id": "f4391fe8-72a7-4572-95bc-b43f60af5f74",
   "metadata": {},
   "outputs": [
    {
     "data": {
      "text/plain": [
       "<bound method coo_matrix.transpose of <4x4 sparse matrix of type '<class 'numpy.int64'>'\n",
       "\twith 4 stored elements in COOrdinate format>>"
      ]
     },
     "execution_count": 5,
     "metadata": {},
     "output_type": "execute_result"
    }
   ],
   "source": [
    "A.transpose"
   ]
  },
  {
   "cell_type": "code",
   "execution_count": 9,
   "id": "98b154ec-eb75-4d93-9c40-59269c9bb9f4",
   "metadata": {},
   "outputs": [
    {
     "ename": "ValueError",
     "evalue": "matmul: Input operand 0 does not have enough dimensions (has 0, gufunc core with signature (n?,k),(k,m?)->(n?,m?) requires 1)",
     "output_type": "error",
     "traceback": [
      "\u001b[0;31m---------------------------------------------------------------------------\u001b[0m",
      "\u001b[0;31mValueError\u001b[0m                                Traceback (most recent call last)",
      "Cell \u001b[0;32mIn [9], line 1\u001b[0m\n\u001b[0;32m----> 1\u001b[0m \u001b[43mnp\u001b[49m\u001b[38;5;241;43m.\u001b[39;49m\u001b[43mmatmul\u001b[49m\u001b[43m(\u001b[49m\u001b[43mA\u001b[49m\u001b[38;5;241;43m.\u001b[39;49m\u001b[43mtranspose\u001b[49m\u001b[43m,\u001b[49m\u001b[43m \u001b[49m\u001b[43mA\u001b[49m\u001b[43m)\u001b[49m\n",
      "\u001b[0;31mValueError\u001b[0m: matmul: Input operand 0 does not have enough dimensions (has 0, gufunc core with signature (n?,k),(k,m?)->(n?,m?) requires 1)"
     ]
    }
   ],
   "source": [
    "np.matmul(A.transpose, A)"
   ]
  },
  {
   "cell_type": "code",
   "execution_count": 3,
   "id": "a5e0d070-996a-41bd-a6c6-c8f3098b7420",
   "metadata": {},
   "outputs": [
    {
     "data": {
      "text/plain": [
       "array([[0., 1., 0., 0., 0., 0., 0., 0., 0., 0.],\n",
       "       [0., 0., 0., 1., 0., 0., 0., 0., 0., 0.],\n",
       "       [0., 0., 0., 0., 1., 0., 0., 0., 0., 0.],\n",
       "       [0., 0., 0., 0., 0., 1., 0., 0., 0., 0.],\n",
       "       [0., 0., 0., 0., 0., 0., 0., 0., 0., 1.]])"
      ]
     },
     "execution_count": 3,
     "metadata": {},
     "output_type": "execute_result"
    }
   ],
   "source": [
    "arr = [1,3,4,5,9]\n",
    "np.eye(10)[arr]"
   ]
  },
  {
   "cell_type": "code",
   "execution_count": 18,
   "id": "a152bba6-073a-4041-a966-c335f32d9e89",
   "metadata": {},
   "outputs": [],
   "source": [
    "import numpy as np\n",
    "from scipy import sparse\n",
    "I = np.array([0,0,1,3,3, 1])\n",
    "J = np.array([0,2,1,3,1,3])\n",
    "V = np.array([1,1,1,1,1, 1])\n",
    "B = sparse.coo_matrix((V,(I,J)),shape=(4,5)).tocsr()"
   ]
  },
  {
   "cell_type": "code",
   "execution_count": 19,
   "id": "f40fcff9-9950-4f15-8d49-e3317f89d13b",
   "metadata": {},
   "outputs": [
    {
     "data": {
      "text/plain": [
       "array([[1, 0, 1, 0, 0],\n",
       "       [0, 1, 0, 1, 0],\n",
       "       [0, 0, 0, 0, 0],\n",
       "       [0, 1, 0, 1, 0]])"
      ]
     },
     "execution_count": 19,
     "metadata": {},
     "output_type": "execute_result"
    }
   ],
   "source": [
    "B.toarray()"
   ]
  },
  {
   "cell_type": "code",
   "execution_count": 20,
   "id": "82f0200a-d359-4f80-837c-2a747f155ad6",
   "metadata": {},
   "outputs": [],
   "source": [
    "C = B.multiply(B) "
   ]
  },
  {
   "cell_type": "code",
   "execution_count": 21,
   "id": "7c050e1e-d582-4ce6-a9c9-8828c1556a5c",
   "metadata": {},
   "outputs": [
    {
     "data": {
      "text/plain": [
       "array([[1, 0, 1, 0, 0],\n",
       "       [0, 1, 0, 1, 0],\n",
       "       [0, 0, 0, 0, 0],\n",
       "       [0, 1, 0, 1, 0]])"
      ]
     },
     "execution_count": 21,
     "metadata": {},
     "output_type": "execute_result"
    }
   ],
   "source": [
    "C.toarray()"
   ]
  },
  {
   "cell_type": "code",
   "execution_count": 23,
   "id": "2d8cf852-2941-444e-8be6-b6451ad024a7",
   "metadata": {},
   "outputs": [
    {
     "ename": "ValueError",
     "evalue": "inconsistent shapes",
     "output_type": "error",
     "traceback": [
      "\u001b[0;31m---------------------------------------------------------------------------\u001b[0m",
      "\u001b[0;31mValueError\u001b[0m                                Traceback (most recent call last)",
      "Cell \u001b[0;32mIn [23], line 1\u001b[0m\n\u001b[0;32m----> 1\u001b[0m \u001b[43mB\u001b[49m\u001b[38;5;241;43m.\u001b[39;49m\u001b[43mmultiply\u001b[49m\u001b[43m(\u001b[49m\u001b[43mB\u001b[49m\u001b[38;5;241;43m.\u001b[39;49m\u001b[43mtranspose\u001b[49m\u001b[43m(\u001b[49m\u001b[43m)\u001b[49m\u001b[43m)\u001b[49m\n",
      "File \u001b[0;32m~/Library/Python/3.8/lib/python/site-packages/scipy/sparse/_compressed.py:416\u001b[0m, in \u001b[0;36m_cs_matrix.multiply\u001b[0;34m(self, other)\u001b[0m\n\u001b[1;32m    414\u001b[0m         \u001b[38;5;28;01mreturn\u001b[39;00m copy\u001b[38;5;241m.\u001b[39m_mul_sparse_matrix(other)\n\u001b[1;32m    415\u001b[0m     \u001b[38;5;28;01melse\u001b[39;00m:\n\u001b[0;32m--> 416\u001b[0m         \u001b[38;5;28;01mraise\u001b[39;00m \u001b[38;5;167;01mValueError\u001b[39;00m(\u001b[38;5;124m\"\u001b[39m\u001b[38;5;124minconsistent shapes\u001b[39m\u001b[38;5;124m\"\u001b[39m)\n\u001b[1;32m    418\u001b[0m \u001b[38;5;66;03m# Assume other is a dense matrix/array, which produces a single-item\u001b[39;00m\n\u001b[1;32m    419\u001b[0m \u001b[38;5;66;03m# object array if other isn't convertible to ndarray.\u001b[39;00m\n\u001b[1;32m    420\u001b[0m other \u001b[38;5;241m=\u001b[39m np\u001b[38;5;241m.\u001b[39matleast_2d(other)\n",
      "\u001b[0;31mValueError\u001b[0m: inconsistent shapes"
     ]
    }
   ],
   "source": [
    "B.multiply(B.transpose()) "
   ]
  },
  {
   "cell_type": "code",
   "execution_count": 33,
   "id": "194a61cb-c6fe-47b7-ac94-7afd28019944",
   "metadata": {},
   "outputs": [
    {
     "data": {
      "text/plain": [
       "array([[1, 0, 1, 0, 0],\n",
       "       [0, 1, 0, 1, 0],\n",
       "       [0, 0, 0, 0, 0],\n",
       "       [0, 1, 0, 1, 0]])"
      ]
     },
     "execution_count": 33,
     "metadata": {},
     "output_type": "execute_result"
    }
   ],
   "source": [
    "B.toarray()"
   ]
  },
  {
   "cell_type": "code",
   "execution_count": 25,
   "id": "d0df2d7f-2328-48e2-9550-ee8051b6dbcd",
   "metadata": {},
   "outputs": [
    {
     "data": {
      "text/plain": [
       "array([[1, 0, 0, 0],\n",
       "       [0, 1, 0, 1],\n",
       "       [1, 0, 0, 0],\n",
       "       [0, 1, 0, 1],\n",
       "       [0, 0, 0, 0]])"
      ]
     },
     "execution_count": 25,
     "metadata": {},
     "output_type": "execute_result"
    }
   ],
   "source": [
    "B.transpose().toarray()"
   ]
  },
  {
   "cell_type": "code",
   "execution_count": 35,
   "id": "901f0f94-8b0d-476e-998f-3d05b166540a",
   "metadata": {},
   "outputs": [],
   "source": [
    "C = B.transpose().dot(B).toarray()"
   ]
  },
  {
   "cell_type": "code",
   "execution_count": null,
   "id": "287d9cfe-e542-4198-86ce-438a61ce5dd5",
   "metadata": {},
   "outputs": [],
   "source": [
    ">>> a = np.array([9, 4, 4, 3, 3, 9, 0, 4, 6, 0])\n",
    ">>> a\n",
    "array([9, 4, 4, 3, 3, 9, 0, 4, 6, 0])\n",
    "\n",
    ">>> ind = np.argpartition(a, -4)[-4:]\n",
    ">>> ind\n",
    "array([1, 5, 8, 0])\n",
    "\n",
    ">>> top4 = a[ind]\n",
    ">>> top4\n",
    "array([4, 9, 6, 9])\n",
    "\n",
    ">>> ind[np.argsort(a[ind])]\n",
    "array([1, 8, 5, 0])\n"
   ]
  },
  {
   "cell_type": "code",
   "execution_count": 52,
   "id": "aff37107-2fc1-4789-8a64-92554c71acb1",
   "metadata": {},
   "outputs": [
    {
     "data": {
      "text/plain": [
       "array([[1, 0, 1, 0, 0],\n",
       "       [0, 2, 0, 2, 0],\n",
       "       [1, 0, 1, 0, 0],\n",
       "       [0, 2, 0, 2, 0],\n",
       "       [0, 0, 0, 0, 0]])"
      ]
     },
     "execution_count": 52,
     "metadata": {},
     "output_type": "execute_result"
    }
   ],
   "source": [
    "C"
   ]
  },
  {
   "cell_type": "code",
   "execution_count": 70,
   "id": "84952b72-178d-4297-b171-f991d96a68bf",
   "metadata": {},
   "outputs": [
    {
     "data": {
      "text/plain": [
       "array([[1, 0, 1, 0, 0],\n",
       "       [0, 2, 0, 2, 0],\n",
       "       [1, 0, 1, 0, 0],\n",
       "       [0, 2, 0, 2, 0],\n",
       "       [0, 0, 0, 0, 0]])"
      ]
     },
     "execution_count": 70,
     "metadata": {},
     "output_type": "execute_result"
    }
   ],
   "source": [
    "C"
   ]
  },
  {
   "cell_type": "code",
   "execution_count": 72,
   "id": "e1417a97-48fe-4812-90cd-7aeafb99728c",
   "metadata": {},
   "outputs": [
    {
     "data": {
      "text/plain": [
       "array([[2, 0, 4, 3, 1],\n",
       "       [3, 1, 4, 2, 0],\n",
       "       [2, 0, 4, 3, 1],\n",
       "       [3, 1, 4, 2, 0],\n",
       "       [4, 3, 2, 1, 0]])"
      ]
     },
     "execution_count": 72,
     "metadata": {},
     "output_type": "execute_result"
    }
   ],
   "source": [
    "topk = 5\n",
    "rating_pred = C\n",
    "ind = np.argpartition(rating_pred, -topk)\n",
    "ind = ind[:, -topk:]\n",
    "arr_ind = rating_pred[np.arange(len(rating_pred))[:, None], ind]\n",
    "arr_ind_argsort = np.argsort(arr_ind)[np.arange(len(rating_pred)), ::-1]\n",
    "batch_pred_list = ind[np.arange(len(rating_pred))[:, None], arr_ind_argsort]\n",
    "batch_pred_list"
   ]
  },
  {
   "cell_type": "code",
   "execution_count": 80,
   "id": "890314c5-f918-4142-bccf-3a68d33cba6d",
   "metadata": {},
   "outputs": [
    {
     "data": {
      "text/plain": [
       "[0, 1, 1, 0, 0]"
      ]
     },
     "execution_count": 80,
     "metadata": {},
     "output_type": "execute_result"
    }
   ],
   "source": [
    "list(arr_ind[0, :])"
   ]
  },
  {
   "cell_type": "code",
   "execution_count": null,
   "id": "d64396e3-c56a-427b-a656-7bc6c7eaf76a",
   "metadata": {},
   "outputs": [],
   "source": []
  },
  {
   "cell_type": "code",
   "execution_count": 51,
   "id": "0b02d075-0ee8-422a-b1d1-24c2992707f1",
   "metadata": {},
   "outputs": [
    {
     "data": {
      "text/plain": [
       "array([[0, 2, 1, 3, 4],\n",
       "       [1, 3, 2, 0, 4],\n",
       "       [0, 2, 1, 3, 4],\n",
       "       [0, 1, 2, 3, 4]])"
      ]
     },
     "execution_count": 51,
     "metadata": {},
     "output_type": "execute_result"
    }
   ],
   "source": [
    "np.argpartition(C, -4)[-4:]"
   ]
  },
  {
   "cell_type": "code",
   "execution_count": 49,
   "id": "52495751-1f31-4a0a-b3a7-b15fce7fc371",
   "metadata": {},
   "outputs": [
    {
     "data": {
      "text/plain": [
       "array([[1, 0, 2, 3, 4],\n",
       "       [0, 1, 2, 3, 4],\n",
       "       [1, 0, 2, 3, 4],\n",
       "       [0, 1, 2, 3, 4],\n",
       "       [0, 1, 2, 3, 4]])"
      ]
     },
     "execution_count": 49,
     "metadata": {},
     "output_type": "execute_result"
    }
   ],
   "source": [
    "ind = np.argpartition(C, -5)#axis=-1\n",
    "ind"
   ]
  },
  {
   "cell_type": "code",
   "execution_count": 43,
   "id": "84ada1d2-0c00-456f-9064-bde814e33494",
   "metadata": {},
   "outputs": [
    {
     "data": {
      "text/plain": [
       "array([[1, 3, 2, 0, 4],\n",
       "       [0, 2, 1, 3, 4],\n",
       "       [1, 3, 2, 0, 4],\n",
       "       [0, 2, 1, 3, 4],\n",
       "       [0, 1, 2, 3, 4]])"
      ]
     },
     "execution_count": 43,
     "metadata": {},
     "output_type": "execute_result"
    }
   ],
   "source": [
    "ind"
   ]
  },
  {
   "cell_type": "code",
   "execution_count": 39,
   "id": "cae4f6a6-1d63-49b2-ab0d-39e411c65a04",
   "metadata": {},
   "outputs": [
    {
     "data": {
      "text/plain": [
       "array([[[1, 0, 1, 0, 0],\n",
       "        [1, 0, 1, 0, 0],\n",
       "        [0, 2, 0, 2, 0],\n",
       "        [0, 2, 0, 2, 0],\n",
       "        [0, 0, 0, 0, 0]],\n",
       "\n",
       "       [[0, 2, 0, 2, 0],\n",
       "        [0, 2, 0, 2, 0],\n",
       "        [1, 0, 1, 0, 0],\n",
       "        [1, 0, 1, 0, 0],\n",
       "        [0, 0, 0, 0, 0]],\n",
       "\n",
       "       [[1, 0, 1, 0, 0],\n",
       "        [1, 0, 1, 0, 0],\n",
       "        [0, 2, 0, 2, 0],\n",
       "        [0, 2, 0, 2, 0],\n",
       "        [0, 0, 0, 0, 0]],\n",
       "\n",
       "       [[1, 0, 1, 0, 0],\n",
       "        [0, 2, 0, 2, 0],\n",
       "        [1, 0, 1, 0, 0],\n",
       "        [0, 2, 0, 2, 0],\n",
       "        [0, 0, 0, 0, 0]]])"
      ]
     },
     "execution_count": 39,
     "metadata": {},
     "output_type": "execute_result"
    }
   ],
   "source": [
    "top4 = C[ind]"
   ]
  },
  {
   "cell_type": "code",
   "execution_count": 78,
   "id": "ff5065c2-b5d2-485d-aa3b-7ddffefdd138",
   "metadata": {},
   "outputs": [
    {
     "data": {
      "text/plain": [
       "array([[ 0.95427113,  0.25236385,  0.32132166, -0.7230696 ,  0.36178314],\n",
       "       [-0.11550724,  0.80433336, -0.31274696,  0.08892136, -0.9702293 ],\n",
       "       [ 0.44759289,  0.61014079,  0.37698506,  1.62897944, -0.49212963],\n",
       "       [-0.2100653 ,  0.32010516,  1.75784466,  0.5411633 , -0.84461986],\n",
       "       [-0.14519328,  1.79864678, -0.0888354 ,  0.30256225,  0.70608678]])"
      ]
     },
     "execution_count": 78,
     "metadata": {},
     "output_type": "execute_result"
    }
   ],
   "source": [
    " np.random.normal(0,1,25).reshape(5,5)"
   ]
  },
  {
   "cell_type": "code",
   "execution_count": 81,
   "id": "a8df5b62-98e8-4ba2-9295-27f5461d80de",
   "metadata": {},
   "outputs": [
    {
     "data": {
      "text/plain": [
       "array([-0.3672514 ,  1.74653322, -2.41147325, -0.54359275,  1.11371731,\n",
       "        1.230996  ,  0.48166823, -0.07068976,  1.53157255, -0.32000643])"
      ]
     },
     "execution_count": 81,
     "metadata": {},
     "output_type": "execute_result"
    }
   ],
   "source": [
    "np.random.normal(0,0.99,10)"
   ]
  },
  {
   "cell_type": "code",
   "execution_count": null,
   "id": "fd564c7c-4f34-41b2-bbcb-1b88c44d6a1e",
   "metadata": {},
   "outputs": [],
   "source": []
  }
 ],
 "metadata": {
  "kernelspec": {
   "display_name": "Python 3 (ipykernel)",
   "language": "python",
   "name": "python3"
  },
  "language_info": {
   "codemirror_mode": {
    "name": "ipython",
    "version": 3
   },
   "file_extension": ".py",
   "mimetype": "text/x-python",
   "name": "python",
   "nbconvert_exporter": "python",
   "pygments_lexer": "ipython3",
   "version": "3.8.9"
  }
 },
 "nbformat": 4,
 "nbformat_minor": 5
}
