{
 "cells": [
  {
   "cell_type": "code",
   "execution_count": null,
   "id": "bde42b26-fe73-4558-81cd-9ed03644e1f7",
   "metadata": {},
   "outputs": [],
   "source": []
  },
  {
   "cell_type": "code",
   "execution_count": null,
   "id": "3fd459bf-effd-469e-a034-affa99f31386",
   "metadata": {},
   "outputs": [],
   "source": []
  },
  {
   "cell_type": "code",
   "execution_count": 57,
   "id": "c2cf203f-9ac6-40df-bda3-fb3deea49ae5",
   "metadata": {},
   "outputs": [],
   "source": [
    "from pymongo import MongoClient\n",
    "from datetime import datetime\n",
    "import pandas as pd"
   ]
  },
  {
   "cell_type": "code",
   "execution_count": 58,
   "id": "6632bf06-2469-4b75-8dad-8ad4ab41a34e",
   "metadata": {},
   "outputs": [],
   "source": [
    "db_config = {\n",
    "    'host' : '172.31.98.107:27017,172.31.98.190:27017,172.31.98.6',\n",
    "    'username' : 'admin',\n",
    "    'password' : 'y3aJOBqfxsHu',\n",
    "    'port' : 27017,\n",
    "    'connectTimeoutMS' : 3000\n",
    "}\n",
    "database_name = 'xindong'"
   ]
  },
  {
   "cell_type": "code",
   "execution_count": 59,
   "id": "9471b5ab-6a08-492f-9244-b1943f1b65d7",
   "metadata": {},
   "outputs": [],
   "source": [
    "# mongodb session\n",
    "db_ = MongoClient(**db_config)[database_name]"
   ]
  },
  {
   "cell_type": "code",
   "execution_count": 32,
   "id": "27f9cbc0-3bbb-41a5-8592-4e49bf8d0c36",
   "metadata": {},
   "outputs": [],
   "source": [
    "collect_name = 'media'\n",
    "media_data = list(db_[collect_name].find())\n",
    "dat = pd.DataFrame(media_data)\n",
    "used_media = set(dat[dat['contentType'].isin([1,2])]['_id'])"
   ]
  },
  {
   "cell_type": "code",
   "execution_count": 76,
   "id": "3496c9b5-da8e-49ff-9e08-518d93ab41cb",
   "metadata": {},
   "outputs": [
    {
     "data": {
      "text/plain": [
       "5011"
      ]
     },
     "execution_count": 76,
     "metadata": {},
     "output_type": "execute_result"
    }
   ],
   "source": [
    "len(used_media)"
   ]
  },
  {
   "cell_type": "code",
   "execution_count": 78,
   "id": "f5ce7b2e-0f0d-4962-8938-5b0fd9728d35",
   "metadata": {},
   "outputs": [
    {
     "data": {
      "text/plain": [
       "<AxesSubplot: >"
      ]
     },
     "execution_count": 78,
     "metadata": {},
     "output_type": "execute_result"
    },
    {
     "data": {
      "image/png": "[encoded data removed]",
      "text/plain": [
       "<Figure size 640x480 with 1 Axes>"
      ]
     },
     "metadata": {},
     "output_type": "display_data"
    }
   ],
   "source": [
    "# query watch-duration data\n",
    "collect_name = 'user_watch_duration'\n",
    "all_watch_duration_data = list(db_[collect_name].find())\n",
    "dat = pd.DataFrame(all_watch_duration_data)\n",
    "dat = dat[dat['videoId'].isin(used_media)]"
   ]
  },
  {
   "cell_type": "code",
   "execution_count": 84,
   "id": "3ad1cdb6-dd36-426b-9822-80ad3f9dc646",
   "metadata": {},
   "outputs": [
    {
     "data": {
      "text/html": [
       "<div>\n",
       "<style scoped>\n",
       "    .dataframe tbody tr th:only-of-type {\n",
       "        vertical-align: middle;\n",
       "    }\n",
       "\n",
       "    .dataframe tbody tr th {\n",
       "        vertical-align: top;\n",
       "    }\n",
       "\n",
       "    .dataframe thead th {\n",
       "        text-align: right;\n",
       "    }\n",
       "</style>\n",
       "<table border=\"1\" class=\"dataframe\">\n",
       "  <thead>\n",
       "    <tr style=\"text-align: right;\">\n",
       "      <th></th>\n",
       "      <th>_id</th>\n",
       "    </tr>\n",
       "  </thead>\n",
       "  <tbody>\n",
       "    <tr>\n",
       "      <th>count</th>\n",
       "      <td>5422.000000</td>\n",
       "    </tr>\n",
       "    <tr>\n",
       "      <th>mean</th>\n",
       "      <td>9.366654</td>\n",
       "    </tr>\n",
       "    <tr>\n",
       "      <th>std</th>\n",
       "      <td>19.718790</td>\n",
       "    </tr>\n",
       "    <tr>\n",
       "      <th>min</th>\n",
       "      <td>1.000000</td>\n",
       "    </tr>\n",
       "    <tr>\n",
       "      <th>0%</th>\n",
       "      <td>1.000000</td>\n",
       "    </tr>\n",
       "    <tr>\n",
       "      <th>10%</th>\n",
       "      <td>1.000000</td>\n",
       "    </tr>\n",
       "    <tr>\n",
       "      <th>20%</th>\n",
       "      <td>2.000000</td>\n",
       "    </tr>\n",
       "    <tr>\n",
       "      <th>30%</th>\n",
       "      <td>2.000000</td>\n",
       "    </tr>\n",
       "    <tr>\n",
       "      <th>40%</th>\n",
       "      <td>3.000000</td>\n",
       "    </tr>\n",
       "    <tr>\n",
       "      <th>50%</th>\n",
       "      <td>4.000000</td>\n",
       "    </tr>\n",
       "    <tr>\n",
       "      <th>60%</th>\n",
       "      <td>6.000000</td>\n",
       "    </tr>\n",
       "    <tr>\n",
       "      <th>70%</th>\n",
       "      <td>8.000000</td>\n",
       "    </tr>\n",
       "    <tr>\n",
       "      <th>80%</th>\n",
       "      <td>11.000000</td>\n",
       "    </tr>\n",
       "    <tr>\n",
       "      <th>90%</th>\n",
       "      <td>19.000000</td>\n",
       "    </tr>\n",
       "    <tr>\n",
       "      <th>max</th>\n",
       "      <td>400.000000</td>\n",
       "    </tr>\n",
       "  </tbody>\n",
       "</table>\n",
       "</div>"
      ],
      "text/plain": [
       "               _id\n",
       "count  5422.000000\n",
       "mean      9.366654\n",
       "std      19.718790\n",
       "min       1.000000\n",
       "0%        1.000000\n",
       "10%       1.000000\n",
       "20%       2.000000\n",
       "30%       2.000000\n",
       "40%       3.000000\n",
       "50%       4.000000\n",
       "60%       6.000000\n",
       "70%       8.000000\n",
       "80%      11.000000\n",
       "90%      19.000000\n",
       "max     400.000000"
      ]
     },
     "execution_count": 84,
     "metadata": {},
     "output_type": "execute_result"
    }
   ],
   "source": [
    "dat_ = dat.groupby(by=[\"userId\"]).count()\n",
    "dat_[['_id']].describe([i/10 for i in range(10)])"
   ]
  },
  {
   "cell_type": "code",
   "execution_count": 85,
   "id": "a4f3bf0b-3378-430c-8607-56cc7eea62ec",
   "metadata": {},
   "outputs": [
    {
     "data": {
      "text/plain": [
       "(50786, 6)"
      ]
     },
     "execution_count": 85,
     "metadata": {},
     "output_type": "execute_result"
    }
   ],
   "source": [
    "dat.shape"
   ]
  },
  {
   "cell_type": "code",
   "execution_count": null,
   "id": "020a59db-75b7-48e5-9a7f-3763a35e3ae5",
   "metadata": {},
   "outputs": [],
   "source": []
  },
  {
   "cell_type": "code",
   "execution_count": 61,
   "id": "73ccd285-f723-496f-b4e7-fe560336ad9d",
   "metadata": {},
   "outputs": [],
   "source": [
    "start_date = '2022-12-31'\n",
    "start_date_dt = datetime.strptime(start_date, '%Y-%m-%d')\n",
    "now_date_dt = datetime.now()\n",
    "nosql_query = {\n",
    "    'createdAt': {\n",
    "            '$gte': start_date_dt,\n",
    "            '$lt': now_date_dt\n",
    "            }\n",
    "}\n",
    "watch_duration_data = list(db_[collect_name].find(nosql_query))\n",
    "dat = pd.DataFrame(watch_duration_data)\n",
    "used_user_set = set(dat[dat['videoId'].isin(used_media)]['userId'])"
   ]
  },
  {
   "cell_type": "code",
   "execution_count": 62,
   "id": "5aff92b0-fa81-4925-93d1-10140c54d6ec",
   "metadata": {},
   "outputs": [
    {
     "data": {
      "text/plain": [
       "0.5111731843575419"
      ]
     },
     "execution_count": 62,
     "metadata": {},
     "output_type": "execute_result"
    }
   ],
   "source": [
    "len(all_user_set & used_user_set) / len(all_user_set)"
   ]
  },
  {
   "cell_type": "code",
   "execution_count": 63,
   "id": "217a3e3e-27d7-4d49-99c5-5bb0c66b38b5",
   "metadata": {},
   "outputs": [
    {
     "data": {
      "text/plain": [
       "5370"
      ]
     },
     "execution_count": 63,
     "metadata": {},
     "output_type": "execute_result"
    }
   ],
   "source": [
    "len(all_user_set)"
   ]
  },
  {
   "cell_type": "code",
   "execution_count": 64,
   "id": "fa78a1fa-1c10-43d0-8b58-952b7b05ba69",
   "metadata": {},
   "outputs": [
    {
     "data": {
      "text/plain": [
       "2771"
      ]
     },
     "execution_count": 64,
     "metadata": {},
     "output_type": "execute_result"
    }
   ],
   "source": [
    "len(used_user_set)"
   ]
  },
  {
   "cell_type": "code",
   "execution_count": 39,
   "id": "e03c1e94-8ed1-4723-ac9d-dc20f2203ec2",
   "metadata": {},
   "outputs": [
    {
     "data": {
      "text/plain": [
       "Timestamp('2022-12-28 09:42:31.395000')"
      ]
     },
     "execution_count": 39,
     "metadata": {},
     "output_type": "execute_result"
    }
   ],
   "source": [
    "min(dat['createdAt'])"
   ]
  },
  {
   "cell_type": "code",
   "execution_count": 46,
   "id": "f030deb9-89ff-4ac4-a8c9-46ae0d3a42b1",
   "metadata": {},
   "outputs": [
    {
     "data": {
      "text/plain": [
       "datetime.datetime(2023, 1, 2, 14, 49, 53, 202626)"
      ]
     },
     "execution_count": 46,
     "metadata": {},
     "output_type": "execute_result"
    }
   ],
   "source": [
    "now_date_dt"
   ]
  },
  {
   "cell_type": "code",
   "execution_count": null,
   "id": "52ebbc9d-1b8b-4f3f-b406-bb9b53115e6d",
   "metadata": {},
   "outputs": [],
   "source": [
    "'2023-01-01'\n",
    "0.3016759776536313\n",
    "-\n",
    "'2022-12-31'\n",
    "0.5111731843575419\n",
    "-\n",
    "'2022-12-30'\n",
    "0.7219739292364991\n",
    "-\n",
    "'2022-12-29'\n",
    "0.9070763500931098"
   ]
  },
  {
   "cell_type": "code",
   "execution_count": null,
   "id": "e1834154-f9ad-4320-b896-f8edcd34a39b",
   "metadata": {},
   "outputs": [],
   "source": []
  },
  {
   "cell_type": "code",
   "execution_count": 72,
   "id": "109806c4-6c5c-4107-834a-4b0964d2a71e",
   "metadata": {},
   "outputs": [],
   "source": [
    "start_date = '2022-12-28'\n",
    "start_date_dt = datetime.strptime(start_date, '%Y-%m-%d')\n",
    "end_date = '2022-12-30'\n",
    "end_date_dt = datetime.strptime(end_date, '%Y-%m-%d')\n",
    "nosql_query = {\n",
    "    'createdAt': {\n",
    "            '$gte': start_date_dt,\n",
    "            '$lt': end_date_dt\n",
    "            }\n",
    "}\n",
    "watch_duration_data = list(db_[collect_name].find(nosql_query))\n",
    "dat = pd.DataFrame(watch_duration_data)\n",
    "used_user_setC = set(dat[dat['videoId'].isin(used_media)]['userId'])"
   ]
  },
  {
   "cell_type": "code",
   "execution_count": null,
   "id": "56f89567-6032-4306-bb5b-07399bdb4360",
   "metadata": {},
   "outputs": [],
   "source": []
  },
  {
   "cell_type": "code",
   "execution_count": null,
   "id": "ce42152c-6699-4b01-b684-7f87bfa7dd20",
   "metadata": {},
   "outputs": [],
   "source": [
    "used_user_setA | ('2022-12-31', '2023-01-01')\n",
    "used_user_setB | ('2022-12-30', '2022-12-31')\n",
    "used_user_setC | ('2022-12-29', '2022-12-30')"
   ]
  },
  {
   "cell_type": "code",
   "execution_count": 75,
   "id": "653e7f3c-55a7-489c-a0c5-8faf20eec497",
   "metadata": {},
   "outputs": [
    {
     "data": {
      "text/plain": [
       "0.12481857764876633"
      ]
     },
     "execution_count": 75,
     "metadata": {},
     "output_type": "execute_result"
    }
   ],
   "source": [
    "len(used_user_setB & used_user_setC) / len(used_user_setB)"
   ]
  },
  {
   "cell_type": "code",
   "execution_count": 70,
   "id": "fae588d0-d086-43f9-95a0-d8173fdcf53b",
   "metadata": {},
   "outputs": [
    {
     "data": {
      "text/plain": [
       "1310"
      ]
     },
     "execution_count": 70,
     "metadata": {},
     "output_type": "execute_result"
    }
   ],
   "source": [
    "len(used_user_setA)"
   ]
  },
  {
   "cell_type": "code",
   "execution_count": 71,
   "id": "fec01ca1-303c-4e68-a10a-2b66ace462c1",
   "metadata": {},
   "outputs": [
    {
     "data": {
      "text/plain": [
       "1378"
      ]
     },
     "execution_count": 71,
     "metadata": {},
     "output_type": "execute_result"
    }
   ],
   "source": [
    "len(used_user_setB)"
   ]
  },
  {
   "cell_type": "code",
   "execution_count": 74,
   "id": "95d02432-4fa6-4947-a61e-555d59b56b0e",
   "metadata": {},
   "outputs": [
    {
     "data": {
      "text/plain": [
       "1274"
      ]
     },
     "execution_count": 74,
     "metadata": {},
     "output_type": "execute_result"
    }
   ],
   "source": [
    "len(used_user_setC)"
   ]
  },
  {
   "cell_type": "code",
   "execution_count": null,
   "id": "ebf0c4fd-8314-4aee-a63a-451d485d4bf9",
   "metadata": {},
   "outputs": [],
   "source": []
  },
  {
   "cell_type": "code",
   "execution_count": 26,
   "id": "202844c5-1ef7-4a8a-8a3e-7b867f8693c0",
   "metadata": {},
   "outputs": [],
   "source": [
    "# query watch-duration data\n",
    "collect_name = 'user_watch_duration'\n",
    "all_watch_duration_data = list(db_[collect_name].find())\n",
    "dat = pd.DataFrame(all_watch_duration_data)"
   ]
  },
  {
   "cell_type": "code",
   "execution_count": 40,
   "id": "13f085d0-b0a5-4d94-8b06-a77484f7beb9",
   "metadata": {},
   "outputs": [],
   "source": [
    "collect_name = 'user_watch_duration'\n",
    "all_watch_duration_data = list(db_[collect_name].find())\n",
    "dat = pd.DataFrame(all_watch_duration_data)"
   ]
  },
  {
   "cell_type": "code",
   "execution_count": 41,
   "id": "bb00a758-45fd-475a-b519-cceb4eaa58ce",
   "metadata": {},
   "outputs": [
    {
     "data": {
      "text/plain": [
       "Timestamp('2022-12-28 09:42:31.395000')"
      ]
     },
     "execution_count": 41,
     "metadata": {},
     "output_type": "execute_result"
    }
   ],
   "source": [
    "min(dat['createdAt'])"
   ]
  },
  {
   "cell_type": "code",
   "execution_count": null,
   "id": "b6600d9a-c831-49cd-af47-a1ff59dfff6e",
   "metadata": {},
   "outputs": [],
   "source": []
  },
  {
   "cell_type": "code",
   "execution_count": null,
   "id": "1578f17d-eac1-4b07-9218-0f2f89454ed6",
   "metadata": {},
   "outputs": [],
   "source": []
  },
  {
   "cell_type": "code",
   "execution_count": 10,
   "id": "62806fff-ad98-4f0e-93bd-5b0757214c0f",
   "metadata": {},
   "outputs": [],
   "source": [
    "# given window and calculate cover rate"
   ]
  },
  {
   "cell_type": "code",
   "execution_count": 18,
   "id": "f0b01d78-2384-4b64-a1d6-b453bf1f08b4",
   "metadata": {},
   "outputs": [
    {
     "data": {
      "text/plain": [
       "datetime.datetime(2023, 1, 2, 14, 32, 13, 461156)"
      ]
     },
     "execution_count": 18,
     "metadata": {},
     "output_type": "execute_result"
    }
   ],
   "source": [
    "datetime.now()"
   ]
  },
  {
   "cell_type": "code",
   "execution_count": 17,
   "id": "54648702-ca00-4692-be76-608cdf0d638a",
   "metadata": {},
   "outputs": [
    {
     "data": {
      "text/plain": [
       "datetime.datetime(2022, 12, 24, 16, 0, tzinfo=<UTC>)"
      ]
     },
     "execution_count": 17,
     "metadata": {},
     "output_type": "execute_result"
    }
   ],
   "source": [
    "import pytz\n",
    "zone_tz = pytz.timezone('Asia/Taipei')\n",
    "date_dt = datetime.strptime(start_date, '%Y-%m-%d')\n",
    "zone_tz.localize(date_dt).astimezone(pytz.utc)"
   ]
  },
  {
   "cell_type": "code",
   "execution_count": 15,
   "id": "af57dbc0-bf9a-4f82-84f8-550179219aa3",
   "metadata": {},
   "outputs": [
    {
     "data": {
      "text/plain": [
       "[{'_id': ObjectId('63ac0f877ff01641a6e293dc'),\n",
       "  'userId': 340660,\n",
       "  'videoId': 96300,\n",
       "  'totalDuration': 2.0,\n",
       "  'parts': '[{\"start\":0,\"end\":2,\"duration\":2}]',\n",
       "  'createdAt': datetime.datetime(2022, 12, 28, 9, 42, 31, 395000)},\n",
       " {'_id': ObjectId('63ac0f948bbca5bbefb9b468'),\n",
       "  'userId': 340660,\n",
       "  'videoId': 32968,\n",
       "  'totalDuration': 2.0,\n",
       "  'parts': '[{\"start\":0,\"end\":2,\"duration\":2}]',\n",
       "  'createdAt': datetime.datetime(2022, 12, 28, 9, 42, 44, 516000)},\n",
       " {'_id': ObjectId('63ac0f9b8bbca5bbefb9b469'),\n",
       "  'userId': 340660,\n",
       "  'videoId': 92909,\n",
       "  'totalDuration': 1.0,\n",
       "  'parts': '[{\"start\":0,\"end\":1,\"duration\":1}]',\n",
       "  'createdAt': datetime.datetime(2022, 12, 28, 9, 42, 51, 607000)},\n",
       " {'_id': ObjectId('63ac0fe87ff01641a6e293e8'),\n",
       "  'userId': 340660,\n",
       "  'videoId': 92909,\n",
       "  'totalDuration': 2.0,\n",
       "  'parts': '[{\"start\":0,\"end\":2,\"duration\":2}]',\n",
       "  'createdAt': datetime.datetime(2022, 12, 28, 9, 44, 8, 837000)},\n",
       " {'_id': ObjectId('63ac0ff17ff01641a6e293ed'),\n",
       "  'userId': 340660,\n",
       "  'videoId': 92893,\n",
       "  'totalDuration': 2.0,\n",
       "  'parts': '[{\"start\":0,\"end\":2,\"duration\":2}]',\n",
       "  'createdAt': datetime.datetime(2022, 12, 28, 9, 44, 17, 8000)},\n",
       " {'_id': ObjectId('63ac10c87ff01641a6e293f8'),\n",
       "  'userId': 65099,\n",
       "  'videoId': 22014,\n",
       "  'totalDuration': 2.0,\n",
       "  'parts': '[{\"start\":0,\"end\":2,\"duration\":2}]',\n",
       "  'createdAt': datetime.datetime(2022, 12, 28, 9, 47, 52, 477000)},\n",
       " {'_id': ObjectId('63ac10d006842f63330331ff'),\n",
       "  'userId': 65099,\n",
       "  'videoId': 81967,\n",
       "  'totalDuration': 1.0,\n",
       "  'parts': '[{\"start\":0,\"end\":1,\"duration\":1}]',\n",
       "  'createdAt': datetime.datetime(2022, 12, 28, 9, 48, 0, 92000)},\n",
       " {'_id': ObjectId('63ac10da7ff01641a6e293f9'),\n",
       "  'userId': 65099,\n",
       "  'videoId': 30242,\n",
       "  'totalDuration': 1.0,\n",
       "  'parts': '[{\"start\":1,\"end\":2,\"duration\":1}]',\n",
       "  'createdAt': datetime.datetime(2022, 12, 28, 9, 48, 10, 635000)},\n",
       " {'_id': ObjectId('63ac10e67ff01641a6e293fa'),\n",
       "  'userId': 65099,\n",
       "  'videoId': 32548,\n",
       "  'totalDuration': 7.0,\n",
       "  'parts': '[{\"start\":0,\"end\":7,\"duration\":7}]',\n",
       "  'createdAt': datetime.datetime(2022, 12, 28, 9, 48, 22, 985000)},\n",
       " {'_id': ObjectId('63ac10f27ff01641a6e293fc'),\n",
       "  'userId': 340660,\n",
       "  'videoId': 82654,\n",
       "  'totalDuration': 5.0,\n",
       "  'parts': '[{\"start\":0,\"end\":5,\"duration\":5}]',\n",
       "  'createdAt': datetime.datetime(2022, 12, 28, 9, 48, 34, 270000)}]"
      ]
     },
     "execution_count": 15,
     "metadata": {},
     "output_type": "execute_result"
    }
   ],
   "source": [
    "all_watch_duration_data[:10]"
   ]
  },
  {
   "cell_type": "code",
   "execution_count": null,
   "id": "c281677e-abf2-4748-8ee8-6fc66cac3b24",
   "metadata": {},
   "outputs": [],
   "source": [
    "now_date = datetime.now().strftime('%Y-%m-%d')"
   ]
  }
 ],
 "metadata": {
  "kernelspec": {
   "display_name": "Python 3.8.9 64-bit",
   "language": "python",
   "name": "python3"
  },
  "language_info": {
   "codemirror_mode": {
    "name": "ipython",
    "version": 3
   },
   "file_extension": ".py",
   "mimetype": "text/x-python",
   "name": "python",
   "nbconvert_exporter": "python",
   "pygments_lexer": "ipython3",
   "version": "3.8.9"
  },
  "vscode": {
   "interpreter": {
    "hash": "31f2aee4e71d21fbe5cf8b01ff0e069b9275f58929596ceb00d14d90e3e16cd6"
   }
  }
 },
 "nbformat": 4,
 "nbformat_minor": 5
}
