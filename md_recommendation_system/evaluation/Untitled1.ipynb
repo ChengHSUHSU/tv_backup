{
 "cells": [
  {
   "cell_type": "code",
   "execution_count": null,
   "id": "89e10c02-f6e3-448d-b266-b01230553d0d",
   "metadata": {},
   "outputs": [],
   "source": []
  },
  {
   "cell_type": "code",
   "execution_count": null,
   "id": "2bf2423b-79a0-4d54-bce7-aba03ae14552",
   "metadata": {},
   "outputs": [],
   "source": []
  },
  {
   "cell_type": "code",
   "execution_count": 1,
   "id": "81326465-b71d-4815-9e21-7ab0e8cd0485",
   "metadata": {},
   "outputs": [],
   "source": [
    "import pandas as pd\n",
    "from utils import load_config, MongoDBSession"
   ]
  },
  {
   "cell_type": "code",
   "execution_count": 3,
   "id": "9f94e782-a18d-4e3b-9319-0ff35ec0a5e2",
   "metadata": {},
   "outputs": [],
   "source": [
    "# parameter\n",
    "query_cfg_path = './config/query.yaml'\n",
    "rec_result_file = 'xindong_head-20221220.csv.csv'\n",
    "topK = 10"
   ]
  },
  {
   "cell_type": "code",
   "execution_count": 4,
   "id": "efda48a9-7d94-45cc-85c2-0a3a4eb9d457",
   "metadata": {},
   "outputs": [],
   "source": [
    "# load query config\n",
    "query_config = load_config(query_cfg_path)"
   ]
  },
  {
   "cell_type": "code",
   "execution_count": 5,
   "id": "529ffab8-4613-416d-ba61-3d76211c085a",
   "metadata": {},
   "outputs": [
    {
     "data": {
      "text/plain": [
       "['xindong123', 'xindong_inference', 'xindong']"
      ]
     },
     "execution_count": 5,
     "metadata": {},
     "output_type": "execute_result"
    }
   ],
   "source": [
    "# init mongoDB\n",
    "mongodb_session = MongoDBSession(query_config['connect_settings'])\n",
    "database_names = mongodb_session.database_names\n",
    "database_names"
   ]
  },
  {
   "cell_type": "code",
   "execution_count": 6,
   "id": "07336bcc-53c7-4e47-a343-59eca6e8c41b",
   "metadata": {},
   "outputs": [
    {
     "name": "stdout",
     "output_type": "stream",
     "text": [
      "ready db(=xindong)....\n"
     ]
    }
   ],
   "source": [
    "# get xindong.media(my)(id, title, tags)\n",
    "mongodb_session.init_db(db_name='xindong')\n",
    "media_cl = mongodb_session.query(collect_name='media')"
   ]
  },
  {
   "cell_type": "code",
   "execution_count": null,
   "id": "3fc8d961-8ac1-4051-960d-c7601fb6c700",
   "metadata": {},
   "outputs": [],
   "source": [
    "# build item2info\n",
    "item2info = dict()\n",
    "for record in media_cl:\n",
    "    item2info[record['ITEM_ID']] = {\n",
    "                        'title' : record['title'],\n",
    "                        'tags' : record['tags-data']\n",
    "                        }"
   ]
  },
  {
   "cell_type": "code",
   "execution_count": null,
   "id": "51d0d87e-3f12-40a2-a841-7e2fc2fc185e",
   "metadata": {},
   "outputs": [],
   "source": [
    "# get All/user2meta_history data\n",
    "mongodb_session.init_db(db_name='xindong_inference')\n",
    "user2meta_history_cl = mongodb_session.query(collect_name='All/user2meta_history')"
   ]
  },
  {
   "cell_type": "code",
   "execution_count": null,
   "id": "03e4a624-39cf-4ff5-8631-4c4c372c8245",
   "metadata": {},
   "outputs": [],
   "source": [
    "# build user2meta_history\n",
    "user2meta_history = dict()\n",
    "for record in user2meta_history_cl:\n",
    "    user2meta_history[record['USER_ID']] = record['meta_history']"
   ]
  },
  {
   "cell_type": "code",
   "execution_count": null,
   "id": "7ddf1432-0e85-44ab-92e4-229684eb43d5",
   "metadata": {},
   "outputs": [],
   "source": []
  },
  {
   "cell_type": "code",
   "execution_count": null,
   "id": "e5ddd4ee-27a8-4489-94fe-7648760864bd",
   "metadata": {},
   "outputs": [],
   "source": [
    "# build item2info\n",
    "dat = {'title' : [], 'segment' : []}\n",
    "for record in media_cl:\n",
    "    item2info[record['ITEM_ID']] = {\n",
    "                        'title' : record['title'],\n",
    "                        'tags' : record['tags-data']\n",
    "                        }"
   ]
  },
  {
   "cell_type": "code",
   "execution_count": 8,
   "id": "eec88968-bc81-4a6b-9621-b411ac2152d2",
   "metadata": {},
   "outputs": [
    {
     "name": "stderr",
     "output_type": "stream",
     "text": [
      "Building prefix dict from the default dictionary ...\n",
      "Loading model from cache /var/folders/wm/9mwhs7qn1z54jbvm86mnhkbw0000gn/T/jieba.cache\n",
      "Loading model cost 0.344 seconds.\n",
      "Prefix dict has been built successfully.\n"
     ]
    },
    {
     "data": {
      "text/plain": [
       "['他', '来到', '了', '网易', '杭研', '大厦']"
      ]
     },
     "execution_count": 8,
     "metadata": {},
     "output_type": "execute_result"
    }
   ],
   "source": [
    "import jieba\n",
    "seg_list = jieba.cut(\"他来到了网易杭研大厦\")\n",
    "list(seg_list)"
   ]
  },
  {
   "cell_type": "code",
   "execution_count": null,
   "id": "da142443-210a-4c77-900f-8759314f158f",
   "metadata": {},
   "outputs": [],
   "source": [
    "'''\n",
    "1. seg perfm [DONE]\n",
    "2. item2rank, workable?\n",
    "'''"
   ]
  },
  {
   "cell_type": "code",
   "execution_count": 9,
   "id": "f12584bf-b39a-478d-9f29-16bc3f252fbd",
   "metadata": {},
   "outputs": [],
   "source": [
    "item2title = dict()\n",
    "item2keyword_list = dict()\n",
    "for record in media_cl:\n",
    "    ITEM_ID = record['ITEM_ID']\n",
    "    title = record['title']\n",
    "    tags = record['tags-data']\n",
    "    seg_list = list(set(jieba.cut(title)))\n",
    "    keyword_list = set()\n",
    "    for element in tags:\n",
    "        try:\n",
    "            keyword_list.add(element['name'])\n",
    "        except:\n",
    "            pass\n",
    "    for keyw in seg_list:\n",
    "        if keyw not in keyword_list and len(keyw) > 1:\n",
    "            keyword_list.add(keyw)\n",
    "    item2keyword_list[ITEM_ID] = keyword_list\n",
    "    item2title[ITEM_ID] = title"
   ]
  },
  {
   "cell_type": "code",
   "execution_count": 20,
   "id": "017de5fc-b0b4-4576-86cb-d469337678fe",
   "metadata": {},
   "outputs": [
    {
     "data": {
      "text/plain": [
       "48164"
      ]
     },
     "execution_count": 20,
     "metadata": {},
     "output_type": "execute_result"
    }
   ],
   "source": [
    "ITEM_ID"
   ]
  },
  {
   "cell_type": "code",
   "execution_count": 22,
   "id": "8ba1e1b8-49d2-4e64-906b-a2183349f9cb",
   "metadata": {},
   "outputs": [
    {
     "name": "stderr",
     "output_type": "stream",
     "text": [
      "100%|██████████████████████████████████████| 5002/5002 [00:17<00:00, 283.18it/s]\n"
     ]
    }
   ],
   "source": [
    "from tqdm import tqdm\n",
    "pos, neg = 0,0\n",
    "num_list = []\n",
    "item2rank_item = dict()\n",
    "item_list = list(item2keyword_list.keys())\n",
    "for item in tqdm(item_list):\n",
    "    num = 0\n",
    "    keywA = item2keyword_list[item]\n",
    "    item4score = list()\n",
    "    for i in range(len(item_list)):\n",
    "        if item != item_list[i]:\n",
    "            keywB = item2keyword_list[item_list[i]]\n",
    "            score = len(keywA & keywB)\n",
    "            item4score.append([item_list[i], score])\n",
    "    item4score = sorted(item4score ,reverse=True, key=lambda x:x[1])\n",
    "    res = [item_ for item_, score_ in item4score if score_ > 0]\n",
    "    item2rank_item[item] = res"
   ]
  },
  {
   "cell_type": "code",
   "execution_count": 34,
   "id": "193f11c1-bc52-4bb8-840b-b65d8d451c61",
   "metadata": {},
   "outputs": [],
   "source": [
    "super_t4rank_t = list()\n",
    "for item in item2rank_item.keys():\n",
    "    t = item2title[item]\n",
    "    res = [item2title[r_i] for r_i in item2rank_item[item]]\n",
    "    super_t4rank_t.append([t, res])"
   ]
  },
  {
   "cell_type": "code",
   "execution_count": 35,
   "id": "0a27876a-da5e-46bf-9a87-69b3d0a92c15",
   "metadata": {},
   "outputs": [],
   "source": [
    "import random\n",
    "res = random.sample(super_t4rank_t, 30)"
   ]
  },
  {
   "cell_type": "code",
   "execution_count": 54,
   "id": "5f052275-90cc-40fc-90a0-a07d870212fe",
   "metadata": {},
   "outputs": [],
   "source": [
    "idx = 5"
   ]
  },
  {
   "cell_type": "code",
   "execution_count": 55,
   "id": "46a3d8d5-f22f-42ae-ace3-728f6a242347",
   "metadata": {},
   "outputs": [
    {
     "data": {
      "text/plain": [
       "'马思纯性感女监工被工人强上'"
      ]
     },
     "execution_count": 55,
     "metadata": {},
     "output_type": "execute_result"
    }
   ],
   "source": [
    "res[idx][0]"
   ]
  },
  {
   "cell_type": "code",
   "execution_count": 56,
   "id": "59613cf1-d97e-4139-be28-968884f07e3b",
   "metadata": {},
   "outputs": [
    {
     "data": {
      "text/plain": [
       "['性感双枪女峡帮你撸',\n",
       " '性感筱田攸阿姨喜欢后入',\n",
       " '白袜袜格罗丫性感裸舞',\n",
       " '超性感欧美女神极品胸形展露身材',\n",
       " '性感骚妇主播公园随机狩猎',\n",
       " '《权力的游戏》性感龙后臣服肉棒',\n",
       " '貧性感寶貝騎馬騎的無法自拔',\n",
       " '屁股太性感了忍不住肛交内射',\n",
       " '顶级身材的性感辣妹把我当马骑',\n",
       " '性感网袜自己动哦',\n",
       " '白嫩美女性感诱惑',\n",
       " '性感少妇老公不在家约炮',\n",
       " '极品身材美女，穿着性感吊带睡衣坐在我上面，叫声可射！',\n",
       " '☆小鹏奇啪行☆第二季番外篇𝐄𝐏04★日式ktv来袭！环肥燕瘦性感婀娜！决战到天亮！',\n",
       " '性感台球女教练被硬屌进洞 琳达',\n",
       " '强上鞭打老婆上瘾 不管妳要不要',\n",
       " '搭讪20岁性感日本辣妹',\n",
       " '【水果派原片】叔父强上人妻，调教中出玩物',\n",
       " '韩国情色片段 超性感的KTV老板两被黑色会龙哥拉进房间直接办了',\n",
       " '害羞口罩学生妹 下面搔痒难耐强上家教老师',\n",
       " '☆小鹏奇啪行☆第二季𝐄𝐏05★性感妖娆人妖party,绝色人妖皇后竟这样被中国男人拿下！',\n",
       " '【三餐性感】挑戰吉尼斯記錄，12小時不停啪啪',\n",
       " '高端诱惑作品性感妖娆美女模特',\n",
       " '绑架性感保险业务员',\n",
       " '雀儿喜的白色性感！成人才懂得丝袜诱惑！',\n",
       " '【劲爆门事件】内蒙古极品空姐 刘彦 性感身材最爱骑乘 外表女神空姐 实则饥渴淫娃 叫声是真骚 国产，自拍，女神，空姐，网曝门',\n",
       " '【大网红最新瓜】（下）近日抖音超多人搜索的性感大网红【赵一菲】私密流出完整全套 国产，自拍，网红，网曝门，后入',\n",
       " '【大网红最新瓜】（上）近日抖音超多人搜索的性感大网红【赵一菲】私密流出完整全套 国产，自拍，网红，网曝门，口交',\n",
       " '用性感乳腺开＆追击抽插让写真偶像肉体早泄觉醒_穗花爱里',\n",
       " '请买下我的性感爆乳。～开始爆乳订购的淫荡女子 水原美园',\n",
       " '『无码』🈚 休学旅行和女老师小泉睡了。身材极品、西装黑丝超级性感。最近好像和老公关系不好，给老公打电话也不接。这个时候碰巧要和教头和拼房间，没办法只能答应了…',\n",
       " '毛仔探花-性感黑丝少妇床上淫荡，喊着老公顶到我的小b心心了。',\n",
       " '涛哥探花-少妇五一不回家~穿性感内衣诱惑我肏她',\n",
       " '微信上约了位172CM大长腿性感美女啪啪,很少出来约有点紧张,慢慢调情放开后再狠狠爆插,痛的呻吟大叫',\n",
       " '大长腿性感美女趁男友出差偷约',\n",
       " '某网新签约36F高颜值极品身材性感美女和富二代男友各种场景啪啪艳舞诱惑流出颜值一流 -3',\n",
       " '某网新签约36F高颜值极品身材性感美女和富二代男友各种场景啪啪艳舞诱惑流出颜值一流 -2',\n",
       " '张含韵性感蕾丝魅魔捆绑榨精',\n",
       " '马思纯（无码）翘臀被卡床底',\n",
       " '米娜（无码）性感女仆多人轮流中出',\n",
       " '关晓彤（国语）富家千金极致性感调教',\n",
       " '鱼闪闪国语富家千金极致性感调教',\n",
       " '鱼闪闪性感护士性爱治疗患者',\n",
       " '野小马性感小短裙淫语挑逗',\n",
       " '性感小少妇遇探花界劳模 被花式爆操 这姿势少见',\n",
       " '女神Missa 极品性感黑兔找爸爸上床',\n",
       " '女神Missa 性感泳衣极品身材',\n",
       " '午后河边的性感水仙女',\n",
       " '足控福利 榨汁姬 性感肉色丝袜足交',\n",
       " '吃鸡少女涵菱 川著性感水手服 黑色過膝襪幫我足交',\n",
       " '和黑丝女人妻OL枫可怜出差同住一屋强上了...',\n",
       " '②足球宝贝下海直播！粉嫩小逼逼真可爱！性感粉嫩！',\n",
       " '韩国美女性感黑丝自慰骚舞',\n",
       " '女仆美尻欧妮太性感～让饿不得的男友直接在厨房上了！',\n",
       " 'cosplay minichu ff性感赛车女郎',\n",
       " 'cosplay minichu 性感乳房粉红宝贝',\n",
       " '极致性感cosplay 魅魔',\n",
       " '麻豆 尾随强上巨乳辣妹',\n",
       " '长腿性感女神自拍流出 粉嫩小逼被爆操内射 小母狗 中部.mp4',\n",
       " '兔子先生 / 性感家教被下春藥 / 3p瘋狂輸出內射 / TZ-009',\n",
       " '三十几岁单身女人的性感动作让人着迷 本打算一夜情 却被她紧紧夹住活塞抽插无法逃脱 不断内射 ',\n",
       " '高颜值骚货美女性感身材倒立自慰棒插逼，猛插出了好多白浆液体',\n",
       " '【首次拍摄】【拥有男朋友的秀丽系美人】【全身性感带的超绝灵敏度】拥有被戴绿帽子的愿望，外表清纯内在好色的OL登场。对骑乘位下的激突敏感的美裸体一边几次痉挛一边迎来绝顶高潮..',\n",
       " '【首次拍摄】【性感的现役JD】【激哔哔站back】20岁却一身成熟性感的现役大学生登场。面对多次迫近的久违的肉棒的进击，可爱的娇声在房间中回荡..',\n",
       " '十八岁爱宝铃初次高潮的纯白G奶性感开发三本番',\n",
       " '金先生 用不同视角拍性感正妹的做爱画面 双重响宴',\n",
       " '金先生 用不同视角拍性感正妹的做爱画面 双重响宴',\n",
       " '极品性感尤物竟给个小胖弟任意舔逼吸奶玩弄',\n",
       " 'J先生爆肏某航空性感窈窕空姐 后入顶的好深美妙娇吟',\n",
       " '白嫩胴体与性感胯部刺青',\n",
       " '性感小姐姐痒的不停抠动',\n",
       " '福利姬 风纪性感小姐姐要来整理秩序阿 不乖的要处罚喔',\n",
       " '性感女主播大尺度露出粉红嫩鲍',\n",
       " '巨乳周大萌 巨乳黑丝高跟鞋性感长腿',\n",
       " 'elise兔兔谭晓彤 性感爆棚',\n",
       " '今晚让性感丝袜女巫一起过圣诞吧',\n",
       " 'elieleen性感内衣钻石肛塞',\n",
       " '李㊪瑞💛迷奸辣模多次抗拒！迷濛中被无套强上',\n",
       " '李㊪瑞💛强上酒醉辣妹，身体访抗却挡不住下体诱惑',\n",
       " '李㊪瑞💛姨妈来照样强上，无套内射高挑辣妹',\n",
       " '李㊪瑞💛迷濛中被强上！嘴上喊着不要，身体却很诚实',\n",
       " '李㊪瑞💛强上长腿黑丝辣妹！无套爆操直接内射',\n",
       " '【小编推荐】小二先生 性感大长腿正妹对镜拍 狂打屁屁 上集',\n",
       " '黑色蕾丝内裤极品人妻！性感的鲍鱼穴里面好多水啊！极品',\n",
       " '勾搭足浴店人妻技师！骚的可以！我结扎了你可以不带套！哈哈！浓浓精全部射里面！流出来了！哈哈！真特么刺激！性感黑丝袜极品诱人必看视频！',\n",
       " '哥哥强上熟睡的高中妹妹',\n",
       " '②妹妹的白袜足交！性感棉袜！挑逗哥哥鸡巴爆浆！必看',\n",
       " '②42岁极品阿姨！成熟性感美丽韵味十足啊！小帅哥你慢一点操啊',\n",
       " '【兼职外围】小少妇被强上暴力操逼！大哥操的小少妇喊爽啊！快点啊！',\n",
       " '国产 女优们的性感调教 / 吴梦梦x艾秋首度联手4P大作！',\n",
       " '国产 乳女贼强上巨乳富家女 穷人女的逆袭 ',\n",
       " 'MSD-053 / 敲詐性感人妻 / 威逼利誘淪為性器',\n",
       " 'MMZ-019 / 性感人妻的報復 / 洩憤凌辱心腹男奴',\n",
       " '悠纱有朱💛最赞的好女人悠纱有栖的初次高潮～G奶性感开发三本番SP',\n",
       " '风骚老师家访  被学生强上爆操内射 / MM-019',\n",
       " '伴郎强上准新娘 婚礼后台遭伴郎提前试车 / MM-010',\n",
       " '多梅奇丝袜 / 性感美女丝袜激情演绎 / SH-005',\n",
       " '强上妹妹 香菱',\n",
       " '无良公公强上亲儿媳',\n",
       " '國產AV 天美傳媒 TM0084 暗殺性感色嬌妻 吳芳宜(嘉儀)',\n",
       " '國產AV 天美傳媒 TMG010 性感醫生小姨帶著我破處',\n",
       " 'TT-005 / F罩杯性感巨乳DJ孟若雨 / 沒想到竟在夜店巧遇酒醉前男友',\n",
       " 'HJ-081 / 猥瑣工人操上女監工 / 小穴好濕熱！這麼熱只好脫衣服',\n",
       " 'HJ-080 / 萬聖節PARTY DAY / 妹妹的同學好色! / 性感小惡魔福利 不給糖就舔蛋',\n",
       " '起邱比特之富家千金調教 / 極致性感開發 連續發射口爆中出 / 沒操過豪門千金？富家少女華麗開幹！',\n",
       " '含羞口罩学生妹 / 下面搔痒难耐强上家教老师',\n",
       " '欲求不满的性感人妻高潮不断_広瀬結香',\n",
       " '性感运动型爆乳美女狂乱性交连续内射',\n",
       " 'π436 失足少妇也有春天',\n",
       " '打工人妻偷偷带年轻作业员到休息室打炮',\n",
       " '性感少妇被逃亡犯威胁侵犯',\n",
       " '可爱、漂亮、性感，有着各种模样的人妻']"
      ]
     },
     "execution_count": 56,
     "metadata": {},
     "output_type": "execute_result"
    }
   ],
   "source": [
    "res[idx][1]"
   ]
  },
  {
   "cell_type": "code",
   "execution_count": null,
   "id": "70ae5859-3d4f-4b6f-961c-3bbbfdf451d7",
   "metadata": {},
   "outputs": [],
   "source": []
  },
  {
   "cell_type": "code",
   "execution_count": null,
   "id": "6b14a6f0-eb96-4298-b532-66edb65fa576",
   "metadata": {},
   "outputs": [],
   "source": []
  },
  {
   "cell_type": "code",
   "execution_count": null,
   "id": "e9347a2c-4328-4729-a6dc-201cb4c259b2",
   "metadata": {},
   "outputs": [],
   "source": []
  },
  {
   "cell_type": "code",
   "execution_count": 96,
   "id": "6e74918c-6c44-4bd3-b8db-11674d5a1440",
   "metadata": {},
   "outputs": [
    {
     "data": {
      "text/plain": [
       "['成都男女副区长 奸情视频记录外泄', []]"
      ]
     },
     "execution_count": 96,
     "metadata": {},
     "output_type": "execute_result"
    }
   ],
   "source": [
    "super_t4rank_t[-1]"
   ]
  },
  {
   "cell_type": "code",
   "execution_count": 103,
   "id": "68477520-be2f-4d73-a6d4-e7d74ce69008",
   "metadata": {},
   "outputs": [
    {
     "data": {
      "text/plain": [
       "{0, 5001}"
      ]
     },
     "execution_count": 103,
     "metadata": {},
     "output_type": "execute_result"
    }
   ],
   "source": [
    "set(num_list)"
   ]
  },
  {
   "cell_type": "code",
   "execution_count": null,
   "id": "b699c3fd-c580-457e-ba83-28c8520b66a0",
   "metadata": {},
   "outputs": [],
   "source": []
  },
  {
   "cell_type": "code",
   "execution_count": 110,
   "id": "9a3809d0-6b22-49a0-92f6-9e78bbb37a5e",
   "metadata": {},
   "outputs": [
    {
     "data": {
      "text/plain": [
       "{'whiskers': [<matplotlib.lines.Line2D at 0x13c811100>,\n",
       "  <matplotlib.lines.Line2D at 0x13c8113a0>],\n",
       " 'caps': [<matplotlib.lines.Line2D at 0x13c811640>,\n",
       "  <matplotlib.lines.Line2D at 0x13c8118e0>],\n",
       " 'boxes': [<matplotlib.lines.Line2D at 0x138566d00>],\n",
       " 'medians': [<matplotlib.lines.Line2D at 0x13c811b80>],\n",
       " 'fliers': [<matplotlib.lines.Line2D at 0x13c811e20>],\n",
       " 'means': []}"
      ]
     },
     "execution_count": 110,
     "metadata": {},
     "output_type": "execute_result"
    },
    {
     "data": {
      "image/png": "[encoded data removed]",
      "text/plain": [
       "<Figure size 640x480 with 1 Axes>"
      ]
     },
     "metadata": {},
     "output_type": "display_data"
    }
   ],
   "source": [
    "import matplotlib.pyplot as plt\n",
    "plt.boxplot(num_list)"
   ]
  },
  {
   "cell_type": "code",
   "execution_count": 69,
   "id": "b058a178-2583-4de0-93fe-5864598f17b8",
   "metadata": {},
   "outputs": [
    {
     "data": {
      "text/plain": [
       "4990"
      ]
     },
     "execution_count": 69,
     "metadata": {},
     "output_type": "execute_result"
    }
   ],
   "source": [
    "pos"
   ]
  },
  {
   "cell_type": "code",
   "execution_count": 70,
   "id": "30a8a527-e0d8-4fc5-90ea-8110aa2d6f10",
   "metadata": {},
   "outputs": [
    {
     "data": {
      "text/plain": [
       "12"
      ]
     },
     "execution_count": 70,
     "metadata": {},
     "output_type": "execute_result"
    }
   ],
   "source": [
    "neg"
   ]
  },
  {
   "cell_type": "code",
   "execution_count": null,
   "id": "0348f8b2-17c0-4cdf-acbc-08984504dedf",
   "metadata": {},
   "outputs": [],
   "source": []
  },
  {
   "cell_type": "code",
   "execution_count": null,
   "id": "5cbc019a-ad3d-4737-ae8d-f7745e121a68",
   "metadata": {},
   "outputs": [],
   "source": []
  },
  {
   "cell_type": "code",
   "execution_count": 112,
   "id": "93ba1ad9-e4f5-4d8b-a1eb-ecdce04aa5d6",
   "metadata": {},
   "outputs": [],
   "source": [
    "used_titles = set()\n",
    "keyword2title_list = dict()\n",
    "for record in media_cl:\n",
    "    title = record['title']\n",
    "    seg_list = list(set(jieba.cut(title)))\n",
    "    for keyw in seg_list:\n",
    "        if len(keyw) >1:\n",
    "            if keyw not in keyword2title_list:\n",
    "                keyword2title_list[keyw] = []\n",
    "            keyword2title_list[keyw].append(title)\n",
    "            used_titles.add(title)\n",
    "keyword4title_list = list(keyword2title_list.items())\n",
    "keyword4num = sorted([[keyw, len(ts)] for keyw, ts in keyword4title_list if len(ts) > 1], reverse=False, key=lambda x:x[1])"
   ]
  },
  {
   "cell_type": "code",
   "execution_count": 113,
   "id": "3a69da5f-b104-4a5d-89c6-33bcfddb7b98",
   "metadata": {},
   "outputs": [
    {
     "data": {
      "text/plain": [
       "3816"
      ]
     },
     "execution_count": 113,
     "metadata": {},
     "output_type": "execute_result"
    }
   ],
   "source": [
    "len(keyword4num)"
   ]
  },
  {
   "cell_type": "code",
   "execution_count": 114,
   "id": "53b751e4-f8a8-4977-ac50-14ebcc7136fa",
   "metadata": {},
   "outputs": [
    {
     "data": {
      "text/plain": [
       "[['大鸡', 2],\n",
       " ['挨操', 2],\n",
       " ['富婆', 2],\n",
       " ['白富', 2],\n",
       " ['网衣', 2],\n",
       " ['津津有味', 2],\n",
       " ['坏掉', 2],\n",
       " ['蒙面', 2],\n",
       " ['小麦', 2],\n",
       " ['深渊', 2],\n",
       " ['填满', 2],\n",
       " ['黑鬼', 2],\n",
       " ['格罗', 2],\n",
       " ['羞辱', 2],\n",
       " ['肚子', 2],\n",
       " ['抖奶', 2],\n",
       " ['骑坐', 2],\n",
       " ['雪白', 2],\n",
       " ['喊爽', 2],\n",
       " ['狩猎', 2],\n",
       " ['无良', 2],\n",
       " ['两腿', 2],\n",
       " ['睡前', 2],\n",
       " ['操着', 2],\n",
       " ['圣诞节', 2],\n",
       " ['河南', 2],\n",
       " ['哥特', 2],\n",
       " ['宜家', 2],\n",
       " ['女主角', 2],\n",
       " ['湿漉漉', 2],\n",
       " ['甜点', 2],\n",
       " ['集体', 2],\n",
       " ['激突', 2],\n",
       " ['硬干', 2],\n",
       " ['伴娘', 2],\n",
       " ['新郎', 2],\n",
       " ['贵气', 2],\n",
       " ['男轮', 2],\n",
       " ['导师', 2],\n",
       " ['真人版', 2],\n",
       " ['车展', 2],\n",
       " ['小胖', 2],\n",
       " ['房东太太', 2],\n",
       " ['纯情', 2],\n",
       " ['湾湾', 2],\n",
       " ['遭到', 2],\n",
       " ['僵尸', 2],\n",
       " ['骚妹', 2],\n",
       " ['孕妇', 2],\n",
       " ['太久', 2],\n",
       " ['炮机', 2],\n",
       " ['她家', 2],\n",
       " ['厚实', 2],\n",
       " ['阳台', 2],\n",
       " ['任务', 2],\n",
       " ['间谍', 2],\n",
       " ['新买', 2],\n",
       " ['柜姐', 2],\n",
       " ['地上', 2],\n",
       " ['上来', 2],\n",
       " ['绿发', 2],\n",
       " ['面具', 2],\n",
       " ['滨江', 2],\n",
       " ['两女一男', 2],\n",
       " ['红唇', 2],\n",
       " ['两穴', 2],\n",
       " ['爽操', 2],\n",
       " ['单车', 2],\n",
       " ['魔法', 2],\n",
       " ['私生活', 2],\n",
       " ['风情', 2],\n",
       " ['闲着', 2],\n",
       " ['28', 2],\n",
       " ['玩完', 2],\n",
       " ['特大', 2],\n",
       " ['操控', 2],\n",
       " ['無法', 2],\n",
       " ['西洋', 2],\n",
       " ['吸奶', 2],\n",
       " ['合法', 2],\n",
       " ['极萌', 2],\n",
       " ['这大', 2],\n",
       " ['应酬', 2],\n",
       " ['一同', 2],\n",
       " ['满嘴', 2],\n",
       " ['推特', 2],\n",
       " ['唉唉叫', 2],\n",
       " ['开裆', 2],\n",
       " ['公路', 2],\n",
       " ['舒爽', 2],\n",
       " ['高中女生', 2],\n",
       " ['贯穿', 2],\n",
       " ['顶到', 2],\n",
       " ['大乱斗', 2],\n",
       " ['浙江', 2],\n",
       " ['两男两女', 2],\n",
       " ['师范学院', 2],\n",
       " ['外教', 2],\n",
       " ['整个', 2],\n",
       " ['外快', 2]]"
      ]
     },
     "execution_count": 114,
     "metadata": {},
     "output_type": "execute_result"
    }
   ],
   "source": [
    "keyword4num[:100]"
   ]
  },
  {
   "cell_type": "code",
   "execution_count": 18,
   "id": "50207cd3-7f0c-4a0f-9b87-8f4e4c2fabe3",
   "metadata": {},
   "outputs": [
    {
     "data": {
      "text/plain": [
       "10361"
      ]
     },
     "execution_count": 18,
     "metadata": {},
     "output_type": "execute_result"
    }
   ],
   "source": [
    "len(keyword4num)"
   ]
  },
  {
   "cell_type": "code",
   "execution_count": null,
   "id": "bdbb5576-c830-4b4a-a2c8-615ce534da5e",
   "metadata": {},
   "outputs": [],
   "source": []
  },
  {
   "cell_type": "code",
   "execution_count": null,
   "id": "9d68ada0-565c-440c-b8ec-40e2fb7c0778",
   "metadata": {},
   "outputs": [],
   "source": []
  },
  {
   "cell_type": "code",
   "execution_count": 10,
   "id": "1136a544-2dc7-4220-8887-5828e8ec3c8d",
   "metadata": {},
   "outputs": [],
   "source": [
    "pos , neg = 0,0\n",
    "for record in media_cl:\n",
    "\n",
    "    if len(record['tags-data']) > 0 :\n",
    "        pos +=1\n",
    "    else:\n",
    "        neg +=1"
   ]
  },
  {
   "cell_type": "code",
   "execution_count": 11,
   "id": "3d484241-cc13-4103-8f8a-9c6f159da038",
   "metadata": {},
   "outputs": [
    {
     "data": {
      "text/plain": [
       "2963"
      ]
     },
     "execution_count": 11,
     "metadata": {},
     "output_type": "execute_result"
    }
   ],
   "source": [
    "pos"
   ]
  },
  {
   "cell_type": "code",
   "execution_count": 12,
   "id": "ba41bab7-b0fc-4562-be1a-7cfca9c9d3ae",
   "metadata": {},
   "outputs": [
    {
     "data": {
      "text/plain": [
       "2039"
      ]
     },
     "execution_count": 12,
     "metadata": {},
     "output_type": "execute_result"
    }
   ],
   "source": [
    "neg"
   ]
  },
  {
   "cell_type": "code",
   "execution_count": null,
   "id": "e5b49496-8d35-4a10-a600-1e87c7f25378",
   "metadata": {},
   "outputs": [],
   "source": []
  }
 ],
 "metadata": {
  "kernelspec": {
   "display_name": "Python 3.8.9 64-bit",
   "language": "python",
   "name": "python3"
  },
  "language_info": {
   "codemirror_mode": {
    "name": "ipython",
    "version": 3
   },
   "file_extension": ".py",
   "mimetype": "text/x-python",
   "name": "python",
   "nbconvert_exporter": "python",
   "pygments_lexer": "ipython3",
   "version": "3.8.9"
  },
  "vscode": {
   "interpreter": {
    "hash": "31f2aee4e71d21fbe5cf8b01ff0e069b9275f58929596ceb00d14d90e3e16cd6"
   }
  }
 },
 "nbformat": 4,
 "nbformat_minor": 5
}
