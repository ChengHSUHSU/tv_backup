{
 "cells": [
  {
   "cell_type": "code",
   "execution_count": null,
   "id": "bde42b26-fe73-4558-81cd-9ed03644e1f7",
   "metadata": {},
   "outputs": [],
   "source": []
  },
  {
   "cell_type": "code",
   "execution_count": null,
   "id": "3fd459bf-effd-469e-a034-affa99f31386",
   "metadata": {},
   "outputs": [],
   "source": []
  },
  {
   "cell_type": "code",
   "execution_count": 12,
   "id": "c2cf203f-9ac6-40df-bda3-fb3deea49ae5",
   "metadata": {},
   "outputs": [],
   "source": [
    "from pymongo import MongoClient\n",
    "from datetime import datetime\n",
    "from datetime import timedelta\n",
    "import pandas as pd"
   ]
  },
  {
   "cell_type": "code",
   "execution_count": 5,
   "id": "6632bf06-2469-4b75-8dad-8ad4ab41a34e",
   "metadata": {},
   "outputs": [],
   "source": [
    "db_config = {\n",
    "    'host' : '172.31.98.107:27017,172.31.98.190:27017,172.31.98.6',\n",
    "    'username' : 'admin',\n",
    "    'password' : 'y3aJOBqfxsHu',\n",
    "    'port' : 27017,\n",
    "    'connectTimeoutMS' : 3000\n",
    "}\n",
    "database_name = 'xindong'\n",
    "collect_name = 'user_watch_duration'"
   ]
  },
  {
   "cell_type": "code",
   "execution_count": 6,
   "id": "9471b5ab-6a08-492f-9244-b1943f1b65d7",
   "metadata": {},
   "outputs": [],
   "source": [
    "# mongodb session\n",
    "db_ = MongoClient(**db_config)[database_name]"
   ]
  },
  {
   "cell_type": "code",
   "execution_count": 3,
   "id": "c444fd81",
   "metadata": {},
   "outputs": [],
   "source": [
    "def query_by_datetime(start_date=None, end_date=None, collect_name=None, db_=None):\n",
    "    # start_date <= t < end_date\n",
    "    if start_date is not None and end_date is not None:\n",
    "        start_date_dt = datetime.strptime(start_date, '%Y-%m-%d')\n",
    "        end_date_dt = datetime.strptime(end_date, '%Y-%m-%d')\n",
    "        nosql_query = {\n",
    "            'createdAt': {\n",
    "                    '$gte': start_date_dt,\n",
    "                    '$lt': end_date_dt\n",
    "                    }\n",
    "        }\n",
    "    else:\n",
    "        nosql_query = {}\n",
    "    watch_duration_data = list(db_[collect_name].find(nosql_query))\n",
    "    return pd.DataFrame(watch_duration_data)\n"
   ]
  },
  {
   "cell_type": "code",
   "execution_count": 53,
   "id": "4cc7d860",
   "metadata": {},
   "outputs": [],
   "source": [
    "def calculateCTR(dat, threshold = 0, user_set=None):\n",
    "    user2rec_info = dict()\n",
    "    missing_user_num = 0\n",
    "    match_user_num = 0\n",
    "    for record in dat.to_dict('records'):\n",
    "        userId = record['userId']\n",
    "        if user_set is not None and userId not in user_set:\n",
    "            missing_user_num +=1\n",
    "            continue\n",
    "        match_user_num +=1\n",
    "        userId = record['userId']\n",
    "        videoId = record['videoId']\n",
    "        totalDuration = record['totalDuration']\n",
    "        if userId not in user2rec_info:\n",
    "            user2rec_info[userId] = {'pos' : [], 'neg' : []}\n",
    "        if totalDuration >= threshold:\n",
    "            user2rec_info[userId]['pos'].append(videoId)\n",
    "        else:\n",
    "            user2rec_info[userId]['neg'].append(videoId)\n",
    "    unique_CTR = [0, 0]\n",
    "    overall_CTR = [0, 0]\n",
    "    user_list = list(user2rec_info.keys())\n",
    "    for u in user_list:\n",
    "        pos = user2rec_info[u]['pos']\n",
    "        neg = user2rec_info[u]['neg']\n",
    "        # overall\n",
    "        overall_CTR[0] += len(pos)\n",
    "        overall_CTR[1] += len(pos+neg)\n",
    "        # unique\n",
    "        unique_CTR[0] += len(set(pos))\n",
    "        unique_CTR[1] += len(set(pos+neg))\n",
    "    overall_CTR_ = overall_CTR[0] / overall_CTR[1]\n",
    "    unique_CTR_ = unique_CTR[0] / unique_CTR[1]\n",
    "    #if user_set is not None:\n",
    "    #    print('missing_user_num : ', missing_user_num)\n",
    "    #    print('match_user_num : ', match_user_num)\n",
    "    #    print('-------')\n",
    "    return overall_CTR_, unique_CTR_\n"
   ]
  },
  {
   "cell_type": "code",
   "execution_count": 14,
   "id": "a0d01978",
   "metadata": {},
   "outputs": [],
   "source": [
    "start_date = '2022-12-28'\n",
    "end_date = '2023-01-20'\n",
    "date_list = [start_date]\n",
    "while date_list[-1] != end_date:\n",
    "    date_dt = datetime.strptime(date_list[-1], '%Y-%m-%d')\n",
    "    date_dt += timedelta(days=1)\n",
    "    date_list.append(date_dt.strftime('%Y-%m-%d'))"
   ]
  },
  {
   "cell_type": "code",
   "execution_count": 8,
   "id": "e15021cd",
   "metadata": {},
   "outputs": [],
   "source": [
    "collect_name = 'user_watch_duration'\n",
    "\n",
    "for i in range(len(date_list)-1):\n",
    "    st = date_list[i]\n",
    "    ed = date_list[i+1]\n",
    "    dat = query_by_datetime('2022-12-28', '2022-12-29', collect_name, db_)"
   ]
  },
  {
   "cell_type": "code",
   "execution_count": 11,
   "id": "84bdd165",
   "metadata": {},
   "outputs": [
    {
     "data": {
      "text/plain": [
       "Timestamp('2022-12-28 23:59:52.195000')"
      ]
     },
     "execution_count": 11,
     "metadata": {},
     "output_type": "execute_result"
    }
   ],
   "source": [
    "max(dat['createdAt'])"
   ]
  },
  {
   "cell_type": "code",
   "execution_count": null,
   "id": "196355ed",
   "metadata": {},
   "outputs": [],
   "source": [
    "start_date = '2022-12-28'\n",
    "end_date = '2023-01-08'\n",
    "end_date = '2023-01-20'"
   ]
  },
  {
   "cell_type": "code",
   "execution_count": null,
   "id": "b69ae5d4",
   "metadata": {},
   "outputs": [],
   "source": [
    "Timestamp('2022-12-28 09:42:31.395000')\n",
    "ç"
   ]
  },
  {
   "cell_type": "code",
   "execution_count": 38,
   "id": "7f8917e2",
   "metadata": {},
   "outputs": [],
   "source": [
    "collect_name = 'user_recommend_medias'\n",
    "start_date = None\n",
    "end_date = None\n",
    "rec_reuslt_dat = query_by_datetime(start_date, end_date, collect_name, db_)"
   ]
  },
  {
   "cell_type": "code",
   "execution_count": 39,
   "id": "7a45666c",
   "metadata": {},
   "outputs": [
    {
     "data": {
      "text/html": [
       "<div>\n",
       "<style scoped>\n",
       "    .dataframe tbody tr th:only-of-type {\n",
       "        vertical-align: middle;\n",
       "    }\n",
       "\n",
       "    .dataframe tbody tr th {\n",
       "        vertical-align: top;\n",
       "    }\n",
       "\n",
       "    .dataframe thead th {\n",
       "        text-align: right;\n",
       "    }\n",
       "</style>\n",
       "<table border=\"1\" class=\"dataframe\">\n",
       "  <thead>\n",
       "    <tr style=\"text-align: right;\">\n",
       "      <th></th>\n",
       "      <th>_id</th>\n",
       "      <th>userId</th>\n",
       "      <th>mediaIds</th>\n",
       "      <th>updatedAt</th>\n",
       "    </tr>\n",
       "  </thead>\n",
       "  <tbody>\n",
       "    <tr>\n",
       "      <th>0</th>\n",
       "      <td>63adac0378b4fc28304e4a23</td>\n",
       "      <td>91693</td>\n",
       "      <td>[21208,21373,21156,21483,19473,21448,21450,213...</td>\n",
       "      <td>0001-01-01 00:00:00</td>\n",
       "    </tr>\n",
       "    <tr>\n",
       "      <th>1</th>\n",
       "      <td>63adac0378b4fc28304e4a26</td>\n",
       "      <td>91776</td>\n",
       "      <td>[97364,81988,47743,97347,82399,83305,34376,964...</td>\n",
       "      <td>0001-01-01 00:00:00</td>\n",
       "    </tr>\n",
       "  </tbody>\n",
       "</table>\n",
       "</div>"
      ],
      "text/plain": [
       "                        _id  userId  \\\n",
       "0  63adac0378b4fc28304e4a23   91693   \n",
       "1  63adac0378b4fc28304e4a26   91776   \n",
       "\n",
       "                                            mediaIds            updatedAt  \n",
       "0  [21208,21373,21156,21483,19473,21448,21450,213...  0001-01-01 00:00:00  \n",
       "1  [97364,81988,47743,97347,82399,83305,34376,964...  0001-01-01 00:00:00  "
      ]
     },
     "execution_count": 39,
     "metadata": {},
     "output_type": "execute_result"
    }
   ],
   "source": [
    "rec_reuslt_dat.head(2)"
   ]
  },
  {
   "cell_type": "code",
   "execution_count": 42,
   "id": "9e81d3cc",
   "metadata": {},
   "outputs": [],
   "source": [
    "# build user2rec_result\n",
    "user2rec_result = dict()\n",
    "for record in rec_reuslt_dat.to_dict('records'):\n",
    "    userId = record['userId']\n",
    "    mediaIds = eval(record['mediaIds'])\n",
    "    user2rec_result[userId] = mediaIds"
   ]
  },
  {
   "cell_type": "code",
   "execution_count": 43,
   "id": "6a54f4f5",
   "metadata": {},
   "outputs": [],
   "source": [
    "rec_user_set = set(list(user2rec_result.keys()))"
   ]
  },
  {
   "cell_type": "code",
   "execution_count": 33,
   "id": "88208218",
   "metadata": {},
   "outputs": [],
   "source": [
    "collect_name = 'user_watch_duration'\n",
    "start_date = '2022-12-28'\n",
    "end_date = '2023-01-08'\n",
    "backend_dat = query_by_datetime(start_date, end_date, collect_name, db_)"
   ]
  },
  {
   "cell_type": "code",
   "execution_count": 34,
   "id": "cfbbf118",
   "metadata": {},
   "outputs": [],
   "source": [
    "collect_name = 'user_watch_duration'\n",
    "start_date = '2023-01-08'\n",
    "end_date = '2023-01-20'\n",
    "ml_dat = query_by_datetime(start_date, end_date, collect_name, db_)"
   ]
  },
  {
   "cell_type": "code",
   "execution_count": 56,
   "id": "a22bd4c5",
   "metadata": {},
   "outputs": [
    {
     "data": {
      "text/html": [
       "<div>\n",
       "<style scoped>\n",
       "    .dataframe tbody tr th:only-of-type {\n",
       "        vertical-align: middle;\n",
       "    }\n",
       "\n",
       "    .dataframe tbody tr th {\n",
       "        vertical-align: top;\n",
       "    }\n",
       "\n",
       "    .dataframe thead th {\n",
       "        text-align: right;\n",
       "    }\n",
       "</style>\n",
       "<table border=\"1\" class=\"dataframe\">\n",
       "  <thead>\n",
       "    <tr style=\"text-align: right;\">\n",
       "      <th></th>\n",
       "      <th>totalDuration</th>\n",
       "    </tr>\n",
       "  </thead>\n",
       "  <tbody>\n",
       "    <tr>\n",
       "      <th>count</th>\n",
       "      <td>1.383270e+05</td>\n",
       "    </tr>\n",
       "    <tr>\n",
       "      <th>mean</th>\n",
       "      <td>4.707242e+02</td>\n",
       "    </tr>\n",
       "    <tr>\n",
       "      <th>std</th>\n",
       "      <td>6.302709e+04</td>\n",
       "    </tr>\n",
       "    <tr>\n",
       "      <th>min</th>\n",
       "      <td>1.000000e+00</td>\n",
       "    </tr>\n",
       "    <tr>\n",
       "      <th>0%</th>\n",
       "      <td>1.000000e+00</td>\n",
       "    </tr>\n",
       "    <tr>\n",
       "      <th>10%</th>\n",
       "      <td>2.000000e+00</td>\n",
       "    </tr>\n",
       "    <tr>\n",
       "      <th>20%</th>\n",
       "      <td>3.000000e+00</td>\n",
       "    </tr>\n",
       "    <tr>\n",
       "      <th>30%</th>\n",
       "      <td>4.000000e+00</td>\n",
       "    </tr>\n",
       "    <tr>\n",
       "      <th>40%</th>\n",
       "      <td>5.000000e+00</td>\n",
       "    </tr>\n",
       "    <tr>\n",
       "      <th>50%</th>\n",
       "      <td>5.000000e+00</td>\n",
       "    </tr>\n",
       "    <tr>\n",
       "      <th>60%</th>\n",
       "      <td>8.000000e+00</td>\n",
       "    </tr>\n",
       "    <tr>\n",
       "      <th>70%</th>\n",
       "      <td>1.800000e+01</td>\n",
       "    </tr>\n",
       "    <tr>\n",
       "      <th>80%</th>\n",
       "      <td>4.300000e+01</td>\n",
       "    </tr>\n",
       "    <tr>\n",
       "      <th>90%</th>\n",
       "      <td>1.620000e+02</td>\n",
       "    </tr>\n",
       "    <tr>\n",
       "      <th>max</th>\n",
       "      <td>2.018471e+07</td>\n",
       "    </tr>\n",
       "  </tbody>\n",
       "</table>\n",
       "</div>"
      ],
      "text/plain": [
       "       totalDuration\n",
       "count   1.383270e+05\n",
       "mean    4.707242e+02\n",
       "std     6.302709e+04\n",
       "min     1.000000e+00\n",
       "0%      1.000000e+00\n",
       "10%     2.000000e+00\n",
       "20%     3.000000e+00\n",
       "30%     4.000000e+00\n",
       "40%     5.000000e+00\n",
       "50%     5.000000e+00\n",
       "60%     8.000000e+00\n",
       "70%     1.800000e+01\n",
       "80%     4.300000e+01\n",
       "90%     1.620000e+02\n",
       "max     2.018471e+07"
      ]
     },
     "execution_count": 56,
     "metadata": {},
     "output_type": "execute_result"
    }
   ],
   "source": [
    "collect_name = 'user_watch_duration'\n",
    "all_dat = query_by_datetime(None, None, collect_name, db_)\n",
    "all_dat[['totalDuration']].describe([i/10 for i in range(10)])"
   ]
  },
  {
   "cell_type": "code",
   "execution_count": 35,
   "id": "e7b5a4ff",
   "metadata": {},
   "outputs": [
    {
     "data": {
      "text/html": [
       "<div>\n",
       "<style scoped>\n",
       "    .dataframe tbody tr th:only-of-type {\n",
       "        vertical-align: middle;\n",
       "    }\n",
       "\n",
       "    .dataframe tbody tr th {\n",
       "        vertical-align: top;\n",
       "    }\n",
       "\n",
       "    .dataframe thead th {\n",
       "        text-align: right;\n",
       "    }\n",
       "</style>\n",
       "<table border=\"1\" class=\"dataframe\">\n",
       "  <thead>\n",
       "    <tr style=\"text-align: right;\">\n",
       "      <th></th>\n",
       "      <th>_id</th>\n",
       "      <th>userId</th>\n",
       "      <th>videoId</th>\n",
       "      <th>totalDuration</th>\n",
       "      <th>parts</th>\n",
       "      <th>createdAt</th>\n",
       "    </tr>\n",
       "  </thead>\n",
       "  <tbody>\n",
       "    <tr>\n",
       "      <th>0</th>\n",
       "      <td>63bf9f347ff01641a6e5c5d7</td>\n",
       "      <td>351066</td>\n",
       "      <td>87778</td>\n",
       "      <td>20.0</td>\n",
       "      <td>[{\"start\":0,\"end\":20,\"duration\":20}]</td>\n",
       "      <td>2023-01-12 05:48:36.583</td>\n",
       "    </tr>\n",
       "    <tr>\n",
       "      <th>1</th>\n",
       "      <td>63bf9f3406842f6333065f25</td>\n",
       "      <td>272471</td>\n",
       "      <td>96286</td>\n",
       "      <td>97.0</td>\n",
       "      <td>[{\"start\":0,\"end\":97,\"duration\":97}]</td>\n",
       "      <td>2023-01-12 05:48:36.183</td>\n",
       "    </tr>\n",
       "  </tbody>\n",
       "</table>\n",
       "</div>"
      ],
      "text/plain": [
       "                        _id  userId  videoId  totalDuration  \\\n",
       "0  63bf9f347ff01641a6e5c5d7  351066    87778           20.0   \n",
       "1  63bf9f3406842f6333065f25  272471    96286           97.0   \n",
       "\n",
       "                                  parts               createdAt  \n",
       "0  [{\"start\":0,\"end\":20,\"duration\":20}] 2023-01-12 05:48:36.583  \n",
       "1  [{\"start\":0,\"end\":97,\"duration\":97}] 2023-01-12 05:48:36.183  "
      ]
     },
     "execution_count": 35,
     "metadata": {},
     "output_type": "execute_result"
    }
   ],
   "source": [
    "ml_dat.head(2)"
   ]
  },
  {
   "cell_type": "code",
   "execution_count": null,
   "id": "61f0c4b2",
   "metadata": {},
   "outputs": [],
   "source": [
    "'''\n",
    "1. filter user [easy]\n",
    "2. filter video [difficult]\n",
    "match_user_num = 24944\n",
    "missing_user_num = 822\n",
    "'''"
   ]
  },
  {
   "cell_type": "code",
   "execution_count": 61,
   "id": "4b527c79",
   "metadata": {},
   "outputs": [],
   "source": [
    "threshold = [i for i in range(25)]\n",
    "overall_CTR_bk, overall_CTR_ml = [], []\n",
    "unique_CTR_bk, unique_CTR_ml = [], []\n",
    "overall_CTR_diff, unique_CTR_diff = [], []\n",
    "for thr in threshold:\n",
    "    overall_ctr_bk_, unique_ctr_bk_ = calculateCTR(backend_dat, threshold = thr)\n",
    "    overall_ctr_ml_, unique_ctr_ml_  = calculateCTR(ml_dat, threshold = thr, user_set=rec_user_set)\n",
    "    overall_CTR_bk.append(overall_ctr_bk_)\n",
    "    unique_CTR_bk.append(unique_ctr_bk_)\n",
    "    overall_CTR_ml.append(overall_ctr_ml_)\n",
    "    unique_CTR_ml.append(unique_ctr_ml_)\n",
    "    # diff\n",
    "    overall_CTR_diff.append(overall_ctr_ml_ - overall_ctr_bk_)\n",
    "    unique_CTR_diff.append(unique_ctr_ml_ - unique_ctr_bk_)\n"
   ]
  },
  {
   "cell_type": "code",
   "execution_count": 60,
   "id": "e6db92de",
   "metadata": {},
   "outputs": [
    {
     "name": "stdout",
     "output_type": "stream",
     "text": [
      "overall_CTR_bk :  [1.0, 1.0, 0.9170599475625472, 0.8176598675732124, 0.7363551526463138, 0.6554326089854686, 0.4307781184730925, 0.41331378038483757, 0.39822245922765853, 0.38571745989423634, 0.3729813802604097, 0.3577834066568902, 0.3485668577522997, 0.33929698262453895, 0.33092476558681067]\n",
      "overall_CTR_ml :  [1.0, 1.0, 0.9223460551635664, 0.8197161642078256, 0.7344852469531751, 0.6539849262347659, 0.4512107119948685, 0.4336914688903143, 0.4182969852469532, 0.4044259140474663, 0.39267960230917254, 0.3767238614496472, 0.3669820397690827, 0.35711994868505453, 0.3479393842206543]\n"
     ]
    }
   ],
   "source": [
    "print('overall_CTR_bk : ', overall_CTR_bk[:15])\n",
    "print('overall_CTR_ml : ', overall_CTR_ml[:15])"
   ]
  },
  {
   "cell_type": "code",
   "execution_count": 58,
   "id": "8779608e",
   "metadata": {},
   "outputs": [
    {
     "data": {
      "image/png": "[encoded data removed]",
      "text/plain": [
       "<Figure size 640x480 with 1 Axes>"
      ]
     },
     "metadata": {},
     "output_type": "display_data"
    }
   ],
   "source": [
    "import matplotlib.pyplot as plt\n",
    "from matplotlib.font_manager import FontProperties\n",
    "\n",
    "plt.plot(threshold,overall_CTR_bk,'s-',color = 'r', label=\"backend_rec\")\n",
    "plt.plot(threshold,overall_CTR_ml,'o-',color = 'g', label=\"ml_rec\")\n",
    "\n",
    "plt.title(\"overall\")\n",
    "plt.xlabel(\"duration_threshold\")\n",
    "plt.ylabel(\"overall CTR\")\n",
    "plt.legend()\n",
    "plt.show()"
   ]
  },
  {
   "cell_type": "code",
   "execution_count": 63,
   "id": "77037568",
   "metadata": {},
   "outputs": [
    {
     "data": {
      "image/png": "[encoded data removed]",
      "text/plain": [
       "<Figure size 640x480 with 1 Axes>"
      ]
     },
     "metadata": {},
     "output_type": "display_data"
    }
   ],
   "source": [
    "import matplotlib.pyplot as plt\n",
    "from matplotlib.font_manager import FontProperties\n",
    "\n",
    "plt.plot(threshold,overall_CTR_diff,'o-',color = 'g', label=\"ml - backend\")\n",
    "\n",
    "plt.title(\"overall\")\n",
    "plt.xlabel(\"duration_threshold\")\n",
    "plt.ylabel(\"overall DIFF\")\n",
    "plt.legend()\n",
    "plt.show()"
   ]
  },
  {
   "cell_type": "code",
   "execution_count": 49,
   "id": "3d847c57",
   "metadata": {},
   "outputs": [
    {
     "data": {
      "image/png": "[encoded data removed]",
      "text/plain": [
       "<Figure size 640x480 with 1 Axes>"
      ]
     },
     "metadata": {},
     "output_type": "display_data"
    }
   ],
   "source": [
    "import matplotlib.pyplot as plt\n",
    "from matplotlib.font_manager import FontProperties\n",
    "\n",
    "\n",
    "#plt.figure(figsize=(15,10),dpi=100,linewidth = 2)\n",
    "# 把資料放進來並指定對應的X軸、Y軸的資料，用方形做標記(s-)，並指定線條顏色為紅色，使用label標記線條含意\n",
    "plt.plot(threshold,unique_CTR_bk,'s-',color = 'r', label=\"backend_rec\")\n",
    "# 把資料放進來並指定對應的X軸、Y軸的資料 用圓形做標記(o-)，並指定線條顏色為綠色、使用label標記線條含意\n",
    "plt.plot(threshold,unique_CTR_ml,'o-',color = 'g', label=\"ml_rec\")\n",
    " \n",
    "# 設定圖片標題，以及指定字型設定，x代表與圖案最左側的距離，y代表與圖片的距離\n",
    "plt.title(\"unique\")\n",
    "# 设置刻度字体大小\n",
    "# 標示x軸(labelpad代表與圖片的距離)\n",
    "plt.xlabel(\"duration_threshold\")\n",
    "# 標示y軸(labelpad代表與圖片的距離)\n",
    "plt.ylabel(\"unique CTR\")\n",
    "# 顯示出線條標記位置\n",
    "plt.legend()\n",
    "# 畫出圖片\n",
    "plt.show()"
   ]
  },
  {
   "cell_type": "code",
   "execution_count": 64,
   "id": "4721eb64",
   "metadata": {},
   "outputs": [
    {
     "data": {
      "image/png": "[encoded data removed]",
      "text/plain": [
       "<Figure size 640x480 with 1 Axes>"
      ]
     },
     "metadata": {},
     "output_type": "display_data"
    }
   ],
   "source": [
    "import matplotlib.pyplot as plt\n",
    "from matplotlib.font_manager import FontProperties\n",
    "\n",
    "plt.plot(threshold,unique_CTR_diff,'o-',color = 'g', label=\"ml - backend\")\n",
    "\n",
    "plt.title(\"unique\")\n",
    "plt.xlabel(\"duration_threshold\")\n",
    "plt.ylabel(\"overall DIFF\")\n",
    "plt.legend()\n",
    "plt.show()"
   ]
  },
  {
   "cell_type": "code",
   "execution_count": null,
   "id": "f4aad059",
   "metadata": {},
   "outputs": [],
   "source": []
  },
  {
   "cell_type": "code",
   "execution_count": 32,
   "id": "27f9cbc0-3bbb-41a5-8592-4e49bf8d0c36",
   "metadata": {},
   "outputs": [],
   "source": [
    "collect_name = 'media'\n",
    "media_data = list(db_[collect_name].find())\n",
    "dat = pd.DataFrame(media_data)\n",
    "used_media = set(dat[dat['contentType'].isin([1,2])]['_id'])"
   ]
  },
  {
   "cell_type": "code",
   "execution_count": 76,
   "id": "3496c9b5-da8e-49ff-9e08-518d93ab41cb",
   "metadata": {},
   "outputs": [
    {
     "data": {
      "text/plain": [
       "5011"
      ]
     },
     "execution_count": 76,
     "metadata": {},
     "output_type": "execute_result"
    }
   ],
   "source": [
    "len(used_media)"
   ]
  },
  {
   "cell_type": "code",
   "execution_count": 78,
   "id": "f5ce7b2e-0f0d-4962-8938-5b0fd9728d35",
   "metadata": {},
   "outputs": [
    {
     "data": {
      "text/plain": [
       "<AxesSubplot: >"
      ]
     },
     "execution_count": 78,
     "metadata": {},
     "output_type": "execute_result"
    },
    {
     "data": {
      "image/png": "[encoded data removed]",
      "text/plain": [
       "<Figure size 640x480 with 1 Axes>"
      ]
     },
     "metadata": {},
     "output_type": "display_data"
    }
   ],
   "source": [
    "# query watch-duration data\n",
    "collect_name = 'user_watch_duration'\n",
    "all_watch_duration_data = list(db_[collect_name].find())\n",
    "dat = pd.DataFrame(all_watch_duration_data)\n",
    "dat = dat[dat['videoId'].isin(used_media)]"
   ]
  },
  {
   "cell_type": "code",
   "execution_count": 84,
   "id": "3ad1cdb6-dd36-426b-9822-80ad3f9dc646",
   "metadata": {},
   "outputs": [
    {
     "data": {
      "text/html": [
       "<div>\n",
       "<style scoped>\n",
       "    .dataframe tbody tr th:only-of-type {\n",
       "        vertical-align: middle;\n",
       "    }\n",
       "\n",
       "    .dataframe tbody tr th {\n",
       "        vertical-align: top;\n",
       "    }\n",
       "\n",
       "    .dataframe thead th {\n",
       "        text-align: right;\n",
       "    }\n",
       "</style>\n",
       "<table border=\"1\" class=\"dataframe\">\n",
       "  <thead>\n",
       "    <tr style=\"text-align: right;\">\n",
       "      <th></th>\n",
       "      <th>_id</th>\n",
       "    </tr>\n",
       "  </thead>\n",
       "  <tbody>\n",
       "    <tr>\n",
       "      <th>count</th>\n",
       "      <td>5422.000000</td>\n",
       "    </tr>\n",
       "    <tr>\n",
       "      <th>mean</th>\n",
       "      <td>9.366654</td>\n",
       "    </tr>\n",
       "    <tr>\n",
       "      <th>std</th>\n",
       "      <td>19.718790</td>\n",
       "    </tr>\n",
       "    <tr>\n",
       "      <th>min</th>\n",
       "      <td>1.000000</td>\n",
       "    </tr>\n",
       "    <tr>\n",
       "      <th>0%</th>\n",
       "      <td>1.000000</td>\n",
       "    </tr>\n",
       "    <tr>\n",
       "      <th>10%</th>\n",
       "      <td>1.000000</td>\n",
       "    </tr>\n",
       "    <tr>\n",
       "      <th>20%</th>\n",
       "      <td>2.000000</td>\n",
       "    </tr>\n",
       "    <tr>\n",
       "      <th>30%</th>\n",
       "      <td>2.000000</td>\n",
       "    </tr>\n",
       "    <tr>\n",
       "      <th>40%</th>\n",
       "      <td>3.000000</td>\n",
       "    </tr>\n",
       "    <tr>\n",
       "      <th>50%</th>\n",
       "      <td>4.000000</td>\n",
       "    </tr>\n",
       "    <tr>\n",
       "      <th>60%</th>\n",
       "      <td>6.000000</td>\n",
       "    </tr>\n",
       "    <tr>\n",
       "      <th>70%</th>\n",
       "      <td>8.000000</td>\n",
       "    </tr>\n",
       "    <tr>\n",
       "      <th>80%</th>\n",
       "      <td>11.000000</td>\n",
       "    </tr>\n",
       "    <tr>\n",
       "      <th>90%</th>\n",
       "      <td>19.000000</td>\n",
       "    </tr>\n",
       "    <tr>\n",
       "      <th>max</th>\n",
       "      <td>400.000000</td>\n",
       "    </tr>\n",
       "  </tbody>\n",
       "</table>\n",
       "</div>"
      ],
      "text/plain": [
       "               _id\n",
       "count  5422.000000\n",
       "mean      9.366654\n",
       "std      19.718790\n",
       "min       1.000000\n",
       "0%        1.000000\n",
       "10%       1.000000\n",
       "20%       2.000000\n",
       "30%       2.000000\n",
       "40%       3.000000\n",
       "50%       4.000000\n",
       "60%       6.000000\n",
       "70%       8.000000\n",
       "80%      11.000000\n",
       "90%      19.000000\n",
       "max     400.000000"
      ]
     },
     "execution_count": 84,
     "metadata": {},
     "output_type": "execute_result"
    }
   ],
   "source": [
    "dat_ = dat.groupby(by=[\"userId\"]).count()\n",
    "dat_[['_id']].describe([i/10 for i in range(10)])"
   ]
  },
  {
   "cell_type": "code",
   "execution_count": 85,
   "id": "a4f3bf0b-3378-430c-8607-56cc7eea62ec",
   "metadata": {},
   "outputs": [
    {
     "data": {
      "text/plain": [
       "(50786, 6)"
      ]
     },
     "execution_count": 85,
     "metadata": {},
     "output_type": "execute_result"
    }
   ],
   "source": [
    "dat.shape"
   ]
  },
  {
   "cell_type": "code",
   "execution_count": null,
   "id": "020a59db-75b7-48e5-9a7f-3763a35e3ae5",
   "metadata": {},
   "outputs": [],
   "source": []
  },
  {
   "cell_type": "code",
   "execution_count": 61,
   "id": "73ccd285-f723-496f-b4e7-fe560336ad9d",
   "metadata": {},
   "outputs": [],
   "source": [
    "start_date = '2022-12-31'\n",
    "start_date_dt = datetime.strptime(start_date, '%Y-%m-%d')\n",
    "now_date_dt = datetime.now()\n",
    "nosql_query = {\n",
    "    'createdAt': {\n",
    "            '$gte': start_date_dt,\n",
    "            '$lt': now_date_dt\n",
    "            }\n",
    "}\n",
    "watch_duration_data = list(db_[collect_name].find(nosql_query))\n",
    "dat = pd.DataFrame(watch_duration_data)\n",
    "used_user_set = set(dat[dat['videoId'].isin(used_media)]['userId'])"
   ]
  },
  {
   "cell_type": "code",
   "execution_count": 62,
   "id": "5aff92b0-fa81-4925-93d1-10140c54d6ec",
   "metadata": {},
   "outputs": [
    {
     "data": {
      "text/plain": [
       "0.5111731843575419"
      ]
     },
     "execution_count": 62,
     "metadata": {},
     "output_type": "execute_result"
    }
   ],
   "source": [
    "len(all_user_set & used_user_set) / len(all_user_set)"
   ]
  },
  {
   "cell_type": "code",
   "execution_count": 63,
   "id": "217a3e3e-27d7-4d49-99c5-5bb0c66b38b5",
   "metadata": {},
   "outputs": [
    {
     "data": {
      "text/plain": [
       "5370"
      ]
     },
     "execution_count": 63,
     "metadata": {},
     "output_type": "execute_result"
    }
   ],
   "source": [
    "len(all_user_set)"
   ]
  },
  {
   "cell_type": "code",
   "execution_count": 64,
   "id": "fa78a1fa-1c10-43d0-8b58-952b7b05ba69",
   "metadata": {},
   "outputs": [
    {
     "data": {
      "text/plain": [
       "2771"
      ]
     },
     "execution_count": 64,
     "metadata": {},
     "output_type": "execute_result"
    }
   ],
   "source": [
    "len(used_user_set)"
   ]
  },
  {
   "cell_type": "code",
   "execution_count": 39,
   "id": "e03c1e94-8ed1-4723-ac9d-dc20f2203ec2",
   "metadata": {},
   "outputs": [
    {
     "data": {
      "text/plain": [
       "Timestamp('2022-12-28 09:42:31.395000')"
      ]
     },
     "execution_count": 39,
     "metadata": {},
     "output_type": "execute_result"
    }
   ],
   "source": [
    "min(dat['createdAt'])"
   ]
  },
  {
   "cell_type": "code",
   "execution_count": 46,
   "id": "f030deb9-89ff-4ac4-a8c9-46ae0d3a42b1",
   "metadata": {},
   "outputs": [
    {
     "data": {
      "text/plain": [
       "datetime.datetime(2023, 1, 2, 14, 49, 53, 202626)"
      ]
     },
     "execution_count": 46,
     "metadata": {},
     "output_type": "execute_result"
    }
   ],
   "source": [
    "now_date_dt"
   ]
  },
  {
   "cell_type": "code",
   "execution_count": null,
   "id": "52ebbc9d-1b8b-4f3f-b406-bb9b53115e6d",
   "metadata": {},
   "outputs": [],
   "source": [
    "'2023-01-01'\n",
    "0.3016759776536313\n",
    "-\n",
    "'2022-12-31'\n",
    "0.5111731843575419\n",
    "-\n",
    "'2022-12-30'\n",
    "0.7219739292364991\n",
    "-\n",
    "'2022-12-29'\n",
    "0.9070763500931098"
   ]
  },
  {
   "cell_type": "code",
   "execution_count": null,
   "id": "e1834154-f9ad-4320-b896-f8edcd34a39b",
   "metadata": {},
   "outputs": [],
   "source": []
  },
  {
   "cell_type": "code",
   "execution_count": 72,
   "id": "109806c4-6c5c-4107-834a-4b0964d2a71e",
   "metadata": {},
   "outputs": [],
   "source": [
    "start_date = '2022-12-28'\n",
    "start_date_dt = datetime.strptime(start_date, '%Y-%m-%d')\n",
    "end_date = '2022-12-30'\n",
    "end_date_dt = datetime.strptime(end_date, '%Y-%m-%d')\n",
    "nosql_query = {\n",
    "    'createdAt': {\n",
    "            '$gte': start_date_dt,\n",
    "            '$lt': end_date_dt\n",
    "            }\n",
    "}\n",
    "watch_duration_data = list(db_[collect_name].find(nosql_query))\n",
    "dat = pd.DataFrame(watch_duration_data)\n",
    "used_user_setC = set(dat[dat['videoId'].isin(used_media)]['userId'])"
   ]
  },
  {
   "cell_type": "code",
   "execution_count": null,
   "id": "56f89567-6032-4306-bb5b-07399bdb4360",
   "metadata": {},
   "outputs": [],
   "source": []
  },
  {
   "cell_type": "code",
   "execution_count": null,
   "id": "ce42152c-6699-4b01-b684-7f87bfa7dd20",
   "metadata": {},
   "outputs": [],
   "source": [
    "used_user_setA | ('2022-12-31', '2023-01-01')\n",
    "used_user_setB | ('2022-12-30', '2022-12-31')\n",
    "used_user_setC | ('2022-12-29', '2022-12-30')"
   ]
  },
  {
   "cell_type": "code",
   "execution_count": 75,
   "id": "653e7f3c-55a7-489c-a0c5-8faf20eec497",
   "metadata": {},
   "outputs": [
    {
     "data": {
      "text/plain": [
       "0.12481857764876633"
      ]
     },
     "execution_count": 75,
     "metadata": {},
     "output_type": "execute_result"
    }
   ],
   "source": [
    "len(used_user_setB & used_user_setC) / len(used_user_setB)"
   ]
  },
  {
   "cell_type": "code",
   "execution_count": 70,
   "id": "fae588d0-d086-43f9-95a0-d8173fdcf53b",
   "metadata": {},
   "outputs": [
    {
     "data": {
      "text/plain": [
       "1310"
      ]
     },
     "execution_count": 70,
     "metadata": {},
     "output_type": "execute_result"
    }
   ],
   "source": [
    "len(used_user_setA)"
   ]
  },
  {
   "cell_type": "code",
   "execution_count": 71,
   "id": "fec01ca1-303c-4e68-a10a-2b66ace462c1",
   "metadata": {},
   "outputs": [
    {
     "data": {
      "text/plain": [
       "1378"
      ]
     },
     "execution_count": 71,
     "metadata": {},
     "output_type": "execute_result"
    }
   ],
   "source": [
    "len(used_user_setB)"
   ]
  },
  {
   "cell_type": "code",
   "execution_count": 74,
   "id": "95d02432-4fa6-4947-a61e-555d59b56b0e",
   "metadata": {},
   "outputs": [
    {
     "data": {
      "text/plain": [
       "1274"
      ]
     },
     "execution_count": 74,
     "metadata": {},
     "output_type": "execute_result"
    }
   ],
   "source": [
    "len(used_user_setC)"
   ]
  },
  {
   "cell_type": "code",
   "execution_count": null,
   "id": "ebf0c4fd-8314-4aee-a63a-451d485d4bf9",
   "metadata": {},
   "outputs": [],
   "source": []
  },
  {
   "cell_type": "code",
   "execution_count": 26,
   "id": "202844c5-1ef7-4a8a-8a3e-7b867f8693c0",
   "metadata": {},
   "outputs": [],
   "source": [
    "# query watch-duration data\n",
    "collect_name = 'user_watch_duration'\n",
    "all_watch_duration_data = list(db_[collect_name].find())\n",
    "dat = pd.DataFrame(all_watch_duration_data)"
   ]
  },
  {
   "cell_type": "code",
   "execution_count": 40,
   "id": "13f085d0-b0a5-4d94-8b06-a77484f7beb9",
   "metadata": {},
   "outputs": [],
   "source": [
    "collect_name = 'user_watch_duration'\n",
    "all_watch_duration_data = list(db_[collect_name].find())\n",
    "dat = pd.DataFrame(all_watch_duration_data)"
   ]
  },
  {
   "cell_type": "code",
   "execution_count": 41,
   "id": "bb00a758-45fd-475a-b519-cceb4eaa58ce",
   "metadata": {},
   "outputs": [
    {
     "data": {
      "text/plain": [
       "Timestamp('2022-12-28 09:42:31.395000')"
      ]
     },
     "execution_count": 41,
     "metadata": {},
     "output_type": "execute_result"
    }
   ],
   "source": [
    "min(dat['createdAt'])"
   ]
  },
  {
   "cell_type": "code",
   "execution_count": null,
   "id": "b6600d9a-c831-49cd-af47-a1ff59dfff6e",
   "metadata": {},
   "outputs": [],
   "source": []
  },
  {
   "cell_type": "code",
   "execution_count": null,
   "id": "1578f17d-eac1-4b07-9218-0f2f89454ed6",
   "metadata": {},
   "outputs": [],
   "source": []
  },
  {
   "cell_type": "code",
   "execution_count": 10,
   "id": "62806fff-ad98-4f0e-93bd-5b0757214c0f",
   "metadata": {},
   "outputs": [],
   "source": [
    "# given window and calculate cover rate"
   ]
  },
  {
   "cell_type": "code",
   "execution_count": 18,
   "id": "f0b01d78-2384-4b64-a1d6-b453bf1f08b4",
   "metadata": {},
   "outputs": [
    {
     "data": {
      "text/plain": [
       "datetime.datetime(2023, 1, 2, 14, 32, 13, 461156)"
      ]
     },
     "execution_count": 18,
     "metadata": {},
     "output_type": "execute_result"
    }
   ],
   "source": [
    "datetime.now()"
   ]
  },
  {
   "cell_type": "code",
   "execution_count": 17,
   "id": "54648702-ca00-4692-be76-608cdf0d638a",
   "metadata": {},
   "outputs": [
    {
     "data": {
      "text/plain": [
       "datetime.datetime(2022, 12, 24, 16, 0, tzinfo=<UTC>)"
      ]
     },
     "execution_count": 17,
     "metadata": {},
     "output_type": "execute_result"
    }
   ],
   "source": [
    "import pytz\n",
    "zone_tz = pytz.timezone('Asia/Taipei')\n",
    "date_dt = datetime.strptime(start_date, '%Y-%m-%d')\n",
    "zone_tz.localize(date_dt).astimezone(pytz.utc)"
   ]
  },
  {
   "cell_type": "code",
   "execution_count": 15,
   "id": "af57dbc0-bf9a-4f82-84f8-550179219aa3",
   "metadata": {},
   "outputs": [
    {
     "data": {
      "text/plain": [
       "[{'_id': ObjectId('63ac0f877ff01641a6e293dc'),\n",
       "  'userId': 340660,\n",
       "  'videoId': 96300,\n",
       "  'totalDuration': 2.0,\n",
       "  'parts': '[{\"start\":0,\"end\":2,\"duration\":2}]',\n",
       "  'createdAt': datetime.datetime(2022, 12, 28, 9, 42, 31, 395000)},\n",
       " {'_id': ObjectId('63ac0f948bbca5bbefb9b468'),\n",
       "  'userId': 340660,\n",
       "  'videoId': 32968,\n",
       "  'totalDuration': 2.0,\n",
       "  'parts': '[{\"start\":0,\"end\":2,\"duration\":2}]',\n",
       "  'createdAt': datetime.datetime(2022, 12, 28, 9, 42, 44, 516000)},\n",
       " {'_id': ObjectId('63ac0f9b8bbca5bbefb9b469'),\n",
       "  'userId': 340660,\n",
       "  'videoId': 92909,\n",
       "  'totalDuration': 1.0,\n",
       "  'parts': '[{\"start\":0,\"end\":1,\"duration\":1}]',\n",
       "  'createdAt': datetime.datetime(2022, 12, 28, 9, 42, 51, 607000)},\n",
       " {'_id': ObjectId('63ac0fe87ff01641a6e293e8'),\n",
       "  'userId': 340660,\n",
       "  'videoId': 92909,\n",
       "  'totalDuration': 2.0,\n",
       "  'parts': '[{\"start\":0,\"end\":2,\"duration\":2}]',\n",
       "  'createdAt': datetime.datetime(2022, 12, 28, 9, 44, 8, 837000)},\n",
       " {'_id': ObjectId('63ac0ff17ff01641a6e293ed'),\n",
       "  'userId': 340660,\n",
       "  'videoId': 92893,\n",
       "  'totalDuration': 2.0,\n",
       "  'parts': '[{\"start\":0,\"end\":2,\"duration\":2}]',\n",
       "  'createdAt': datetime.datetime(2022, 12, 28, 9, 44, 17, 8000)},\n",
       " {'_id': ObjectId('63ac10c87ff01641a6e293f8'),\n",
       "  'userId': 65099,\n",
       "  'videoId': 22014,\n",
       "  'totalDuration': 2.0,\n",
       "  'parts': '[{\"start\":0,\"end\":2,\"duration\":2}]',\n",
       "  'createdAt': datetime.datetime(2022, 12, 28, 9, 47, 52, 477000)},\n",
       " {'_id': ObjectId('63ac10d006842f63330331ff'),\n",
       "  'userId': 65099,\n",
       "  'videoId': 81967,\n",
       "  'totalDuration': 1.0,\n",
       "  'parts': '[{\"start\":0,\"end\":1,\"duration\":1}]',\n",
       "  'createdAt': datetime.datetime(2022, 12, 28, 9, 48, 0, 92000)},\n",
       " {'_id': ObjectId('63ac10da7ff01641a6e293f9'),\n",
       "  'userId': 65099,\n",
       "  'videoId': 30242,\n",
       "  'totalDuration': 1.0,\n",
       "  'parts': '[{\"start\":1,\"end\":2,\"duration\":1}]',\n",
       "  'createdAt': datetime.datetime(2022, 12, 28, 9, 48, 10, 635000)},\n",
       " {'_id': ObjectId('63ac10e67ff01641a6e293fa'),\n",
       "  'userId': 65099,\n",
       "  'videoId': 32548,\n",
       "  'totalDuration': 7.0,\n",
       "  'parts': '[{\"start\":0,\"end\":7,\"duration\":7}]',\n",
       "  'createdAt': datetime.datetime(2022, 12, 28, 9, 48, 22, 985000)},\n",
       " {'_id': ObjectId('63ac10f27ff01641a6e293fc'),\n",
       "  'userId': 340660,\n",
       "  'videoId': 82654,\n",
       "  'totalDuration': 5.0,\n",
       "  'parts': '[{\"start\":0,\"end\":5,\"duration\":5}]',\n",
       "  'createdAt': datetime.datetime(2022, 12, 28, 9, 48, 34, 270000)}]"
      ]
     },
     "execution_count": 15,
     "metadata": {},
     "output_type": "execute_result"
    }
   ],
   "source": [
    "all_watch_duration_data[:10]"
   ]
  },
  {
   "cell_type": "code",
   "execution_count": null,
   "id": "c281677e-abf2-4748-8ee8-6fc66cac3b24",
   "metadata": {},
   "outputs": [],
   "source": [
    "now_date = datetime.now().strftime('%Y-%m-%d')"
   ]
  }
 ],
 "metadata": {
  "kernelspec": {
   "display_name": "Python 3.8.9 64-bit",
   "language": "python",
   "name": "python3"
  },
  "language_info": {
   "codemirror_mode": {
    "name": "ipython",
    "version": 3
   },
   "file_extension": ".py",
   "mimetype": "text/x-python",
   "name": "python",
   "nbconvert_exporter": "python",
   "pygments_lexer": "ipython3",
   "version": "3.8.9"
  },
  "vscode": {
   "interpreter": {
    "hash": "31f2aee4e71d21fbe5cf8b01ff0e069b9275f58929596ceb00d14d90e3e16cd6"
   }
  }
 },
 "nbformat": 4,
 "nbformat_minor": 5
}
