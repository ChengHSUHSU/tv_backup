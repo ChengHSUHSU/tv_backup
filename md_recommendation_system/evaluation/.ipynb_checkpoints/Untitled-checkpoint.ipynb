{
 "cells": [
  {
   "cell_type": "code",
   "execution_count": null,
   "id": "cb801f49-41f3-46bd-ac36-90085a033dff",
   "metadata": {},
   "outputs": [],
   "source": []
  },
  {
   "cell_type": "code",
   "execution_count": 3,
   "id": "fce3a434-0cf4-4763-a4d5-2a8f46cdc271",
   "metadata": {},
   "outputs": [],
   "source": [
    "import pandas as pd\n",
    "from utils import load_config, MongoDBSession"
   ]
  },
  {
   "cell_type": "code",
   "execution_count": 14,
   "id": "cf11b721-fb0c-47c6-96ec-35b9da07106e",
   "metadata": {},
   "outputs": [],
   "source": [
    "# parameter\n",
    "query_cfg_path = './config/query.yaml'\n",
    "rec_result_file = 'xindong_head-20221220.csv.csv'\n",
    "topK = 10"
   ]
  },
  {
   "cell_type": "code",
   "execution_count": 5,
   "id": "0312f7f0-e759-4a8f-ba18-7bbb75ef9e48",
   "metadata": {},
   "outputs": [],
   "source": [
    "# load query config\n",
    "query_config = load_config(query_cfg_path)"
   ]
  },
  {
   "cell_type": "code",
   "execution_count": 6,
   "id": "66982a85-3ac8-43f8-a11e-a933f2559078",
   "metadata": {},
   "outputs": [
    {
     "data": {
      "text/plain": [
       "['xindong123', 'xindong_inference', 'xindong']"
      ]
     },
     "execution_count": 6,
     "metadata": {},
     "output_type": "execute_result"
    }
   ],
   "source": [
    "# init mongoDB\n",
    "mongodb_session = MongoDBSession(query_config['connect_settings'])\n",
    "database_names = mongodb_session.database_names\n",
    "database_names"
   ]
  },
  {
   "cell_type": "code",
   "execution_count": 7,
   "id": "da8f2b8b-d8f3-4e83-83a7-8a3f7b6a6a96",
   "metadata": {},
   "outputs": [
    {
     "name": "stdout",
     "output_type": "stream",
     "text": [
      "ready db(=xindong)....\n"
     ]
    }
   ],
   "source": [
    "# get xindong.media(my)(id, title, tags)\n",
    "mongodb_session.init_db(db_name='xindong')\n",
    "media_cl = mongodb_session.query(collect_name='media')"
   ]
  },
  {
   "cell_type": "code",
   "execution_count": 8,
   "id": "d4a32021-cd86-47fc-9045-5193e7c7884e",
   "metadata": {},
   "outputs": [],
   "source": [
    "# build item2info\n",
    "item2info = dict()\n",
    "for record in media_cl:\n",
    "    item2info[record['ITEM_ID']] = {\n",
    "                        'title' : record['title'],\n",
    "                        'tags' : record['tags-data']\n",
    "                        }"
   ]
  },
  {
   "cell_type": "code",
   "execution_count": 9,
   "id": "76f52118-5d54-44aa-9a4c-ad7f364f9a1a",
   "metadata": {},
   "outputs": [
    {
     "name": "stdout",
     "output_type": "stream",
     "text": [
      "ready db(=xindong_inference)....\n"
     ]
    }
   ],
   "source": [
    "# get All/user2meta_history data\n",
    "mongodb_session.init_db(db_name='xindong_inference')\n",
    "user2meta_history_cl = mongodb_session.query(collect_name='All/user2meta_history')"
   ]
  },
  {
   "cell_type": "code",
   "execution_count": 10,
   "id": "1b43e1a7-4eb1-49f2-afb3-e139fce1e592",
   "metadata": {},
   "outputs": [],
   "source": [
    "# build user2meta_history\n",
    "num_list = []\n",
    "user2meta_history = dict()\n",
    "for record in user2meta_history_cl:\n",
    "    num_list.append(len(record['meta_history']))\n",
    "    user2meta_history[record['USER_ID']] = record['meta_history']"
   ]
  },
  {
   "cell_type": "code",
   "execution_count": null,
   "id": "60050bb7-d074-4588-9670-0ae5c66a5a81",
   "metadata": {},
   "outputs": [],
   "source": []
  },
  {
   "cell_type": "code",
   "execution_count": 11,
   "id": "46efb6c2-34e8-40a4-bbbc-0bd8c14bd076",
   "metadata": {},
   "outputs": [
    {
     "name": "stdout",
     "output_type": "stream",
     "text": [
      "/Users/md1011/Documents/md_recommendation_system/evaluation\n"
     ]
    }
   ],
   "source": [
    "!pwd"
   ]
  },
  {
   "cell_type": "code",
   "execution_count": 16,
   "id": "92ce9b0f-f7b1-4698-8a3e-f5a966f55982",
   "metadata": {},
   "outputs": [
    {
     "data": {
      "text/html": [
       "<div>\n",
       "<style scoped>\n",
       "    .dataframe tbody tr th:only-of-type {\n",
       "        vertical-align: middle;\n",
       "    }\n",
       "\n",
       "    .dataframe tbody tr th {\n",
       "        vertical-align: top;\n",
       "    }\n",
       "\n",
       "    .dataframe thead th {\n",
       "        text-align: right;\n",
       "    }\n",
       "</style>\n",
       "<table border=\"1\" class=\"dataframe\">\n",
       "  <thead>\n",
       "    <tr style=\"text-align: right;\">\n",
       "      <th></th>\n",
       "      <th>userId</th>\n",
       "      <th>rank_itemId</th>\n",
       "    </tr>\n",
       "  </thead>\n",
       "  <tbody>\n",
       "    <tr>\n",
       "      <th>0</th>\n",
       "      <td>29039</td>\n",
       "      <td>[72930, 21206, 74069, 99689, 20806, 93705, 837...</td>\n",
       "    </tr>\n",
       "    <tr>\n",
       "      <th>1</th>\n",
       "      <td>29559</td>\n",
       "      <td>[64741, 96333, 30886, 93964, 96358, 82493, 196...</td>\n",
       "    </tr>\n",
       "  </tbody>\n",
       "</table>\n",
       "</div>"
      ],
      "text/plain": [
       "   userId                                        rank_itemId\n",
       "0   29039  [72930, 21206, 74069, 99689, 20806, 93705, 837...\n",
       "1   29559  [64741, 96333, 30886, 93964, 96358, 82493, 196..."
      ]
     },
     "execution_count": 16,
     "metadata": {},
     "output_type": "execute_result"
    }
   ],
   "source": [
    "# get recommend results\n",
    "dat = pd.read_csv('csv_file/' + rec_result_file)\n",
    "recommend_results = list(dat.to_dict('records'))\n",
    "dat.head(2)"
   ]
  },
  {
   "cell_type": "code",
   "execution_count": 9,
   "id": "46a0afd2-ae50-4606-a410-9a843aaf9cd1",
   "metadata": {},
   "outputs": [
    {
     "name": "stdout",
     "output_type": "stream",
     "text": [
      "ready db(=xindong_inference)....\n"
     ]
    }
   ],
   "source": [
    "# get item2item_rank\n",
    "mongodb_session.init_db(db_name='xindong_inference')\n",
    "item2item_rank_cl = mongodb_session.query(collect_name='All/item2item_rank')\n",
    "recommend_results = item2item_rank_cl[:]"
   ]
  },
  {
   "cell_type": "code",
   "execution_count": null,
   "id": "71b1d9e0-b4f8-44f1-802b-d8310de47c85",
   "metadata": {},
   "outputs": [],
   "source": [
    "# save to pickle"
   ]
  },
  {
   "cell_type": "code",
   "execution_count": null,
   "id": "ba6c1a6e-e1f1-4cb2-8cb0-07d01525fd2a",
   "metadata": {},
   "outputs": [
    {
     "name": "stdout",
     "output_type": "stream",
     "text": [
      "user_id :  29039\n",
      "meta_item :  83921\n",
      "meta_item(title) :  与4名最爱死去的中年老爸穿着制服嬉戏_藤田小幸\n",
      "meta_item(tags) :  [{'_id': 13334, 'name': '制服'}, {'_id': 24248, 'name': '裙底風光'}, {'_id': 13366, 'name': '中文字幕'}]\n",
      "-----------------------\n",
      "meta_item :  19867\n",
      "meta_item(title) :  香港巨乳网红谭小瞳淫骚大长腿\n",
      "meta_item(tags) :  [{'_id': 17778, 'name': '网红'}, {'_id': 13382, 'name': '情趣诱惑'}]\n",
      "-----------------------\n",
      "meta_item :  74073\n",
      "meta_item(title) :  elise兔兔谭晓彤 巨乳兔女郎\n",
      "meta_item(tags) :  [{'_id': 13383, 'name': '清纯妹子'}, {'_id': 17778, 'name': '网红'}]\n",
      "-----------------------\n",
      "<<<<<<<<<<<<<<<<<<<<<<<<<<<<<<<<<<<\n",
      "rec_item :  72930\n",
      "rec_item(title) :  麻药搜查官 媚药抹穴痉挛_渚光希\n",
      "rec_item(tags) :  [{'_id': 13704, 'name': '百合'}]\n",
      "-----------------------\n",
      "rec_item :  21206\n",
      "rec_item(title) :  韩国美女性感黑丝自慰骚舞\n",
      "rec_item(tags) :  [{'_id': 13383, 'name': '清纯妹子'}, None, {'_id': 17788, 'name': '韩国'}]\n",
      "-----------------------\n",
      "rec_item :  74069\n",
      "rec_item(title) :  elise兔兔谭晓彤 长腿巨乳令人垂涎三尺\n",
      "rec_item(tags) :  []\n",
      "-----------------------\n",
      "rec_item :  99689\n",
      "rec_item(title) :  台湾SWAG『Agnes』双12每个人都在抢货宝宝也不例外正在淘假阳具时邻居突然出现于是然后720P\n",
      "rec_item(tags) :  []\n",
      "-----------------------\n",
      "rec_item :  20806\n",
      "rec_item(title) :  巨乳女少妇偷情性爱视频\n",
      "rec_item(tags) :  [{'_id': 13331, 'name': '少妇'}]\n",
      "-----------------------\n",
      "rec_item :  93705\n",
      "rec_item(title) :  兔子先生 | 讓日本女優優奈變身兔女郎\n",
      "rec_item(tags) :  []\n",
      "-----------------------\n",
      "rec_item :  83733\n",
      "rec_item(title) :  两名傲慢学生成了我的听话性玩具_南乃空、枢木葵\n",
      "rec_item(tags) :  [{'_id': 13334, 'name': '制服'}, {'_id': 13724, 'name': '群交'}, {'_id': 13366, 'name': '中文字幕'}]\n",
      "-----------------------\n",
      "rec_item :  73426\n",
      "rec_item(title) :  巨乳周大萌 巨乳黑丝高跟鞋性感长腿\n",
      "rec_item(tags) :  [None]\n",
      "-----------------------\n",
      "rec_item :  96288\n",
      "rec_item(title) :  魔性的抖音甩奶舞蹈\n",
      "rec_item(tags) :  []\n",
      "-----------------------\n",
      "rec_item :  72639\n",
      "rec_item(title) :  演艺经纪人的湿黏裤袜_向井藍\n",
      "rec_item(tags) :  [{'_id': 13366, 'name': '中文字幕'}, None, None]\n",
      "-----------------------\n"
     ]
    }
   ],
   "source": [
    "# main\n",
    "history_user = list()\n",
    "for record in recommend_results:\n",
    "    meta_history = user2meta_history[record['userId']]\n",
    "    print('user_id : ', record['userId'])\n",
    "    # meta item\n",
    "    for item_id in meta_history:\n",
    "        print('meta_item : ', item_id)\n",
    "        print('meta_item(title) : ', item2info[item_id]['title'])\n",
    "        print('meta_item(tags) : ', item2info[item_id]['tags'])\n",
    "        print('-----------------------')\n",
    "    print('<<<<<<<<<<<<<<<<<<<<<<<<<<<<<<<<<<<')\n",
    "    # rec item\n",
    "    for item_id in eval(record['rank_itemId'])[:topK]:\n",
    "        print('rec_item : ', item_id)\n",
    "        print('rec_item(title) : ', item2info[item_id]['title'])\n",
    "        print('rec_item(tags) : ', item2info[item_id]['tags'])\n",
    "        print('-----------------------')  \n",
    "    history_user.append(record['userId'])\n",
    "    input('====================================')"
   ]
  },
  {
   "cell_type": "code",
   "execution_count": 11,
   "id": "f9723d52-62e2-4cd2-97b7-cacb384c49c1",
   "metadata": {},
   "outputs": [
    {
     "data": {
      "text/plain": [
       "dict_keys(['_id', 'ITEM_ID', 'ITEM_ID_RANK'])"
      ]
     },
     "execution_count": 11,
     "metadata": {},
     "output_type": "execute_result"
    }
   ],
   "source": [
    "record.keys()"
   ]
  },
  {
   "cell_type": "code",
   "execution_count": 26,
   "id": "83d8372f-d23a-4376-acd3-072ae4c03ab1",
   "metadata": {},
   "outputs": [
    {
     "data": {
      "text/plain": [
       "[90072,\n",
       " 96417,\n",
       " 96472,\n",
       " 19881,\n",
       " 61874,\n",
       " 96329,\n",
       " 20182,\n",
       " 91387,\n",
       " 33871,\n",
       " 21463,\n",
       " 96374,\n",
       " 30027,\n",
       " 20930,\n",
       " 32682,\n",
       " 29341,\n",
       " 96598,\n",
       " 95052,\n",
       " 32494,\n",
       " 96578,\n",
       " 96331,\n",
       " 96352,\n",
       " 48527,\n",
       " 73689,\n",
       " 57216,\n",
       " 96599,\n",
       " 30827,\n",
       " 30145,\n",
       " 32986,\n",
       " 96466,\n",
       " 73748,\n",
       " 83731,\n",
       " 96318,\n",
       " 21909,\n",
       " 28775,\n",
       " 96409,\n",
       " 96317,\n",
       " 95063,\n",
       " 61998,\n",
       " 74706,\n",
       " 96263,\n",
       " 96383,\n",
       " 96440,\n",
       " 54707,\n",
       " 29054,\n",
       " 91920,\n",
       " 26002,\n",
       " 20144,\n",
       " 30139,\n",
       " 74102,\n",
       " 96283,\n",
       " 96437,\n",
       " 96475,\n",
       " 19713,\n",
       " 47045,\n",
       " 28684,\n",
       " 75430,\n",
       " 96448,\n",
       " 94600,\n",
       " 96520,\n",
       " 97687,\n",
       " 87723,\n",
       " 75522,\n",
       " 64741,\n",
       " 94272,\n",
       " 21465,\n",
       " 96193,\n",
       " 60234,\n",
       " 71833,\n",
       " 74704,\n",
       " 96361,\n",
       " 96365,\n",
       " 72622,\n",
       " 72183,\n",
       " 19835,\n",
       " 21452,\n",
       " 56513,\n",
       " 20986,\n",
       " 58994,\n",
       " 22085,\n",
       " 96103,\n",
       " 29423,\n",
       " 93119,\n",
       " 96393,\n",
       " 39140,\n",
       " 94291,\n",
       " 97541,\n",
       " 87492,\n",
       " 74899,\n",
       " 32519,\n",
       " 30847,\n",
       " 26316,\n",
       " 59244,\n",
       " 74784,\n",
       " 28738,\n",
       " 96219,\n",
       " 19987,\n",
       " 97529,\n",
       " 96588,\n",
       " 33882,\n",
       " 32527,\n",
       " 92279,\n",
       " 19772,\n",
       " 72805,\n",
       " 81939,\n",
       " 21471,\n",
       " 73882,\n",
       " 76230,\n",
       " 21621,\n",
       " 83787,\n",
       " 20802,\n",
       " 96494,\n",
       " 96604,\n",
       " 96267,\n",
       " 74349,\n",
       " 21944,\n",
       " 21803,\n",
       " 89574,\n",
       " 89729,\n",
       " 25490,\n",
       " 21876,\n",
       " 96350,\n",
       " 29157,\n",
       " 96411,\n",
       " 29385,\n",
       " 39303,\n",
       " 29786,\n",
       " 93660,\n",
       " 83162,\n",
       " 82393,\n",
       " 96217,\n",
       " 96394,\n",
       " 86335,\n",
       " 96360,\n",
       " 96381,\n",
       " 73819,\n",
       " 93624,\n",
       " 19874,\n",
       " 21727,\n",
       " 20072,\n",
       " 20835,\n",
       " 19666,\n",
       " 93550,\n",
       " 75488,\n",
       " 26412,\n",
       " 47028,\n",
       " 85638,\n",
       " 19939,\n",
       " 99643,\n",
       " 30830,\n",
       " 21464,\n",
       " 96315,\n",
       " 30893,\n",
       " 21214,\n",
       " 27117,\n",
       " 75440,\n",
       " 74120,\n",
       " 93120,\n",
       " 60366,\n",
       " 37684,\n",
       " 22145,\n",
       " 33859,\n",
       " 19663,\n",
       " 30422,\n",
       " 93109,\n",
       " 21461,\n",
       " 74749,\n",
       " 74435,\n",
       " 97732,\n",
       " 72464,\n",
       " 28720,\n",
       " 96244,\n",
       " 28553,\n",
       " 19472,\n",
       " 54650,\n",
       " 96421,\n",
       " 22127,\n",
       " 19534,\n",
       " 94279,\n",
       " 96488,\n",
       " 32530,\n",
       " 28581,\n",
       " 93111,\n",
       " 37682,\n",
       " 19803,\n",
       " 31102,\n",
       " 74691,\n",
       " 99644,\n",
       " 96602,\n",
       " 92684,\n",
       " 52971,\n",
       " 96305,\n",
       " 78909,\n",
       " 47047,\n",
       " 93909,\n",
       " 74788,\n",
       " 58234,\n",
       " 22169,\n",
       " 19829,\n",
       " 93113,\n",
       " 19702]"
      ]
     },
     "execution_count": 26,
     "metadata": {},
     "output_type": "execute_result"
    }
   ],
   "source": [
    "eval(record['rank_itemId'])"
   ]
  },
  {
   "cell_type": "code",
   "execution_count": null,
   "id": "b9f60bfa-9132-44a7-820b-bec9b87dd2d3",
   "metadata": {},
   "outputs": [],
   "source": []
  }
 ],
 "metadata": {
  "kernelspec": {
   "display_name": "Python 3 (ipykernel)",
   "language": "python",
   "name": "python3"
  },
  "language_info": {
   "codemirror_mode": {
    "name": "ipython",
    "version": 3
   },
   "file_extension": ".py",
   "mimetype": "text/x-python",
   "name": "python",
   "nbconvert_exporter": "python",
   "pygments_lexer": "ipython3",
   "version": "3.8.9"
  }
 },
 "nbformat": 4,
 "nbformat_minor": 5
}
